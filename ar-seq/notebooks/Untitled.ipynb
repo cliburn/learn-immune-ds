{
 "cells": [
  {
   "cell_type": "code",
   "execution_count": 1,
   "id": "d6b95847",
   "metadata": {},
   "outputs": [
    {
     "ename": "SyntaxError",
     "evalue": "positional argument follows keyword argument (1622281812.py, line 6)",
     "output_type": "error",
     "traceback": [
      "\u001b[0;36m  Cell \u001b[0;32mIn[1], line 6\u001b[0;36m\u001b[0m\n\u001b[0;31m    'max_depth': optopt.Trial.suggest_int(name='max_depth',2,20),\u001b[0m\n\u001b[0m                                                               ^\u001b[0m\n\u001b[0;31mSyntaxError\u001b[0m\u001b[0;31m:\u001b[0m positional argument follows keyword argument\n"
     ]
    }
   ],
   "source": [
    "def objective(trial):\n",
    "  params = {\n",
    "    'learning_rate': optopt.Trial.suggest_uniform(name='learning_rate',low=0.01,high=0.6),\n",
    "    'subsample': optopt.Trial.suggest_uniform(name='subsample',low=0.3,high=1),\n",
    "    'colsample_bytree': optopt.Trial.suggest_uniform(name='colsample_bytree',low=0.5,high=1),\n",
    "    'max_depth': optopt.Trial.suggest_int(name='max_depth',low=2,high=20),\n",
    "    'min_child_weight': optopt.Trial.suggest_int(name='min_child_weight',1,20),\n",
    "    'max_delta_step': optopt.Trial.suggest_int(name='max_delta_step',0,20),\n",
    "    'n_estimators': optopt.Trial.suggest_int(name='n_estimators',50,201),\n",
    "    }"
   ]
  },
  {
   "cell_type": "code",
   "execution_count": null,
   "id": "95138ef2",
   "metadata": {},
   "outputs": [],
   "source": []
  }
 ],
 "metadata": {
  "kernelspec": {
   "display_name": "Python 3 (ipykernel)",
   "language": "python",
   "name": "python3"
  },
  "language_info": {
   "codemirror_mode": {
    "name": "ipython",
    "version": 3
   },
   "file_extension": ".py",
   "mimetype": "text/x-python",
   "name": "python",
   "nbconvert_exporter": "python",
   "pygments_lexer": "ipython3",
   "version": "3.9.15"
  },
  "toc": {
   "base_numbering": 1,
   "nav_menu": {},
   "number_sections": true,
   "sideBar": true,
   "skip_h1_title": false,
   "title_cell": "Table of Contents",
   "title_sidebar": "Contents",
   "toc_cell": false,
   "toc_position": {},
   "toc_section_display": true,
   "toc_window_display": false
  }
 },
 "nbformat": 4,
 "nbformat_minor": 5
}
