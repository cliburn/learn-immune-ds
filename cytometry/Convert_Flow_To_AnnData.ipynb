{
 "cells": [
  {
   "cell_type": "markdown",
   "id": "4624b5a5",
   "metadata": {},
   "source": [
    "# Convert workspace files into single AnnData obect"
   ]
  },
  {
   "cell_type": "code",
   "execution_count": 1,
   "id": "20cb9d76",
   "metadata": {},
   "outputs": [],
   "source": [
    "import os\n",
    "import numpy as np\n",
    "import pandas as pd\n",
    "import flowkit as fk\n",
    "import anndata as ad"
   ]
  },
  {
   "cell_type": "markdown",
   "id": "652669c8",
   "metadata": {},
   "source": [
    "## Get flow data from workspace"
   ]
  },
  {
   "cell_type": "code",
   "execution_count": 2,
   "id": "9a245f12",
   "metadata": {},
   "outputs": [],
   "source": [
    "base_dir = \"FlowKit/data/8_color_data_set/\"\n",
    "sample_path = os.path.join(base_dir, \"fcs_files\")\n",
    "wsp_path = os.path.join(base_dir, \"8_color_ICS.wsp\")\n",
    "\n",
    "seed = 123"
   ]
  },
  {
   "cell_type": "code",
   "execution_count": 3,
   "id": "b06034a2",
   "metadata": {},
   "outputs": [],
   "source": [
    "workspace = fk.Workspace(wsp_path, fcs_samples=sample_path)"
   ]
  },
  {
   "cell_type": "code",
   "execution_count": 4,
   "id": "3a79061e",
   "metadata": {},
   "outputs": [
    {
     "data": {
      "text/plain": [
       "['All Samples', 'DEN', 'GEN', 'G69', 'Lyo Cells']"
      ]
     },
     "execution_count": 4,
     "metadata": {},
     "output_type": "execute_result"
    }
   ],
   "source": [
    "sample_groups = workspace.get_sample_groups()\n",
    "sample_groups"
   ]
  },
  {
   "cell_type": "code",
   "execution_count": 5,
   "id": "c12441d0",
   "metadata": {},
   "outputs": [],
   "source": [
    "sample_group = 'DEN'"
   ]
  },
  {
   "cell_type": "code",
   "execution_count": 6,
   "id": "834d3240",
   "metadata": {},
   "outputs": [
    {
     "data": {
      "text/plain": [
       "['101_DEN084Y5_15_E01_008_clean.fcs',\n",
       " '101_DEN084Y5_15_E03_009_clean.fcs',\n",
       " '101_DEN084Y5_15_E05_010_clean.fcs']"
      ]
     },
     "execution_count": 6,
     "metadata": {},
     "output_type": "execute_result"
    }
   ],
   "source": [
    "sample_ids = workspace.get_sample_ids()\n",
    "sample_ids"
   ]
  },
  {
   "cell_type": "code",
   "execution_count": 7,
   "id": "5425fec9",
   "metadata": {},
   "outputs": [],
   "source": [
    "workspace.analyze_samples(sample_group)"
   ]
  },
  {
   "cell_type": "markdown",
   "id": "2d102bce",
   "metadata": {},
   "source": [
    "### Get gate index for each event for all gates and all samples"
   ]
  },
  {
   "cell_type": "code",
   "execution_count": 8,
   "id": "da8184d6",
   "metadata": {},
   "outputs": [],
   "source": [
    "gates = pd.DataFrame()\n",
    "for gate_name, gate_path in workspace.get_gate_ids(sample_ids[0]):\n",
    "    results = []\n",
    "    for sample_id in sample_ids:\n",
    "        result = workspace.get_gate_membership(\n",
    "            sample_id, \n",
    "            gate_name=gate_name, \n",
    "            gate_path=gate_path\n",
    "        )\n",
    "        results.append(result)\n",
    "    results = np.concatenate(results)\n",
    "    gates[':'.join(list(gate_path) + [gate_name])] = results"
   ]
  },
  {
   "cell_type": "code",
   "execution_count": 9,
   "id": "3f7e56f3",
   "metadata": {},
   "outputs": [
    {
     "data": {
      "text/html": [
       "<div>\n",
       "<style scoped>\n",
       "    .dataframe tbody tr th:only-of-type {\n",
       "        vertical-align: middle;\n",
       "    }\n",
       "\n",
       "    .dataframe tbody tr th {\n",
       "        vertical-align: top;\n",
       "    }\n",
       "\n",
       "    .dataframe thead th {\n",
       "        text-align: right;\n",
       "    }\n",
       "</style>\n",
       "<table border=\"1\" class=\"dataframe\">\n",
       "  <thead>\n",
       "    <tr style=\"text-align: right;\">\n",
       "      <th></th>\n",
       "      <th>root:Time</th>\n",
       "      <th>root:Time:Singlets</th>\n",
       "      <th>root:Time:Singlets:aAmine-</th>\n",
       "      <th>root:Time:Singlets:aAmine-:CD3+</th>\n",
       "      <th>root:Time:Singlets:aAmine-:CD3+:CD4+</th>\n",
       "      <th>root:Time:Singlets:aAmine-:CD3+:CD4+:CD107a+</th>\n",
       "      <th>root:Time:Singlets:aAmine-:CD3+:CD4+:IFNg+</th>\n",
       "      <th>root:Time:Singlets:aAmine-:CD3+:CD4+:IL2+</th>\n",
       "      <th>root:Time:Singlets:aAmine-:CD3+:CD4+:TNFa+</th>\n",
       "      <th>root:Time:Singlets:aAmine-:CD3+:CD8+</th>\n",
       "      <th>root:Time:Singlets:aAmine-:CD3+:CD8+:CD107a+</th>\n",
       "      <th>root:Time:Singlets:aAmine-:CD3+:CD8+:IFNg+</th>\n",
       "      <th>root:Time:Singlets:aAmine-:CD3+:CD8+:IL2+</th>\n",
       "      <th>root:Time:Singlets:aAmine-:CD3+:CD8+:TNFa+</th>\n",
       "    </tr>\n",
       "  </thead>\n",
       "  <tbody>\n",
       "    <tr>\n",
       "      <th>0</th>\n",
       "      <td>False</td>\n",
       "      <td>False</td>\n",
       "      <td>False</td>\n",
       "      <td>False</td>\n",
       "      <td>False</td>\n",
       "      <td>False</td>\n",
       "      <td>False</td>\n",
       "      <td>False</td>\n",
       "      <td>False</td>\n",
       "      <td>False</td>\n",
       "      <td>False</td>\n",
       "      <td>False</td>\n",
       "      <td>False</td>\n",
       "      <td>False</td>\n",
       "    </tr>\n",
       "    <tr>\n",
       "      <th>1</th>\n",
       "      <td>False</td>\n",
       "      <td>False</td>\n",
       "      <td>False</td>\n",
       "      <td>False</td>\n",
       "      <td>False</td>\n",
       "      <td>False</td>\n",
       "      <td>False</td>\n",
       "      <td>False</td>\n",
       "      <td>False</td>\n",
       "      <td>False</td>\n",
       "      <td>False</td>\n",
       "      <td>False</td>\n",
       "      <td>False</td>\n",
       "      <td>False</td>\n",
       "    </tr>\n",
       "    <tr>\n",
       "      <th>2</th>\n",
       "      <td>False</td>\n",
       "      <td>False</td>\n",
       "      <td>False</td>\n",
       "      <td>False</td>\n",
       "      <td>False</td>\n",
       "      <td>False</td>\n",
       "      <td>False</td>\n",
       "      <td>False</td>\n",
       "      <td>False</td>\n",
       "      <td>False</td>\n",
       "      <td>False</td>\n",
       "      <td>False</td>\n",
       "      <td>False</td>\n",
       "      <td>False</td>\n",
       "    </tr>\n",
       "    <tr>\n",
       "      <th>3</th>\n",
       "      <td>False</td>\n",
       "      <td>False</td>\n",
       "      <td>False</td>\n",
       "      <td>False</td>\n",
       "      <td>False</td>\n",
       "      <td>False</td>\n",
       "      <td>False</td>\n",
       "      <td>False</td>\n",
       "      <td>False</td>\n",
       "      <td>False</td>\n",
       "      <td>False</td>\n",
       "      <td>False</td>\n",
       "      <td>False</td>\n",
       "      <td>False</td>\n",
       "    </tr>\n",
       "    <tr>\n",
       "      <th>4</th>\n",
       "      <td>False</td>\n",
       "      <td>False</td>\n",
       "      <td>False</td>\n",
       "      <td>False</td>\n",
       "      <td>False</td>\n",
       "      <td>False</td>\n",
       "      <td>False</td>\n",
       "      <td>False</td>\n",
       "      <td>False</td>\n",
       "      <td>False</td>\n",
       "      <td>False</td>\n",
       "      <td>False</td>\n",
       "      <td>False</td>\n",
       "      <td>False</td>\n",
       "    </tr>\n",
       "  </tbody>\n",
       "</table>\n",
       "</div>"
      ],
      "text/plain": [
       "   root:Time  root:Time:Singlets  root:Time:Singlets:aAmine-  \\\n",
       "0      False               False                       False   \n",
       "1      False               False                       False   \n",
       "2      False               False                       False   \n",
       "3      False               False                       False   \n",
       "4      False               False                       False   \n",
       "\n",
       "   root:Time:Singlets:aAmine-:CD3+  root:Time:Singlets:aAmine-:CD3+:CD4+  \\\n",
       "0                            False                                 False   \n",
       "1                            False                                 False   \n",
       "2                            False                                 False   \n",
       "3                            False                                 False   \n",
       "4                            False                                 False   \n",
       "\n",
       "   root:Time:Singlets:aAmine-:CD3+:CD4+:CD107a+  \\\n",
       "0                                         False   \n",
       "1                                         False   \n",
       "2                                         False   \n",
       "3                                         False   \n",
       "4                                         False   \n",
       "\n",
       "   root:Time:Singlets:aAmine-:CD3+:CD4+:IFNg+  \\\n",
       "0                                       False   \n",
       "1                                       False   \n",
       "2                                       False   \n",
       "3                                       False   \n",
       "4                                       False   \n",
       "\n",
       "   root:Time:Singlets:aAmine-:CD3+:CD4+:IL2+  \\\n",
       "0                                      False   \n",
       "1                                      False   \n",
       "2                                      False   \n",
       "3                                      False   \n",
       "4                                      False   \n",
       "\n",
       "   root:Time:Singlets:aAmine-:CD3+:CD4+:TNFa+  \\\n",
       "0                                       False   \n",
       "1                                       False   \n",
       "2                                       False   \n",
       "3                                       False   \n",
       "4                                       False   \n",
       "\n",
       "   root:Time:Singlets:aAmine-:CD3+:CD8+  \\\n",
       "0                                 False   \n",
       "1                                 False   \n",
       "2                                 False   \n",
       "3                                 False   \n",
       "4                                 False   \n",
       "\n",
       "   root:Time:Singlets:aAmine-:CD3+:CD8+:CD107a+  \\\n",
       "0                                         False   \n",
       "1                                         False   \n",
       "2                                         False   \n",
       "3                                         False   \n",
       "4                                         False   \n",
       "\n",
       "   root:Time:Singlets:aAmine-:CD3+:CD8+:IFNg+  \\\n",
       "0                                       False   \n",
       "1                                       False   \n",
       "2                                       False   \n",
       "3                                       False   \n",
       "4                                       False   \n",
       "\n",
       "   root:Time:Singlets:aAmine-:CD3+:CD8+:IL2+  \\\n",
       "0                                      False   \n",
       "1                                      False   \n",
       "2                                      False   \n",
       "3                                      False   \n",
       "4                                      False   \n",
       "\n",
       "   root:Time:Singlets:aAmine-:CD3+:CD8+:TNFa+  \n",
       "0                                       False  \n",
       "1                                       False  \n",
       "2                                       False  \n",
       "3                                       False  \n",
       "4                                       False  "
      ]
     },
     "execution_count": 9,
     "metadata": {},
     "output_type": "execute_result"
    }
   ],
   "source": [
    "gates.head()"
   ]
  },
  {
   "cell_type": "markdown",
   "id": "88095197",
   "metadata": {},
   "source": [
    "### Get event for all samples"
   ]
  },
  {
   "cell_type": "code",
   "execution_count": 10,
   "id": "c4c98b60",
   "metadata": {},
   "outputs": [],
   "source": [
    "dfs = []\n",
    "for sample_id in sample_ids:\n",
    "    df = workspace.get_gate_events(sample_id)\n",
    "    dfs.append(df)\n",
    "df = pd.concat(dfs)"
   ]
  },
  {
   "cell_type": "code",
   "execution_count": 11,
   "id": "056a7180",
   "metadata": {},
   "outputs": [
    {
     "data": {
      "text/html": [
       "<div>\n",
       "<style scoped>\n",
       "    .dataframe tbody tr th:only-of-type {\n",
       "        vertical-align: middle;\n",
       "    }\n",
       "\n",
       "    .dataframe tbody tr th {\n",
       "        vertical-align: top;\n",
       "    }\n",
       "\n",
       "    .dataframe thead th {\n",
       "        text-align: right;\n",
       "    }\n",
       "</style>\n",
       "<table border=\"1\" class=\"dataframe\">\n",
       "  <thead>\n",
       "    <tr style=\"text-align: right;\">\n",
       "      <th></th>\n",
       "      <th>sample_id</th>\n",
       "      <th>FSC-A</th>\n",
       "      <th>FSC-H</th>\n",
       "      <th>FSC-W</th>\n",
       "      <th>SSC-A</th>\n",
       "      <th>SSC-H</th>\n",
       "      <th>SSC-W</th>\n",
       "      <th>TNFa FITC FLR-A</th>\n",
       "      <th>CD8 PerCP-Cy55 FLR-A</th>\n",
       "      <th>IL2 BV421 FLR-A</th>\n",
       "      <th>Aqua Amine FLR-A</th>\n",
       "      <th>IFNg APC FLR-A</th>\n",
       "      <th>CD3 APC-H7 FLR-A</th>\n",
       "      <th>CD107a PE FLR-A</th>\n",
       "      <th>CD4 PE-Cy7 FLR-A</th>\n",
       "      <th>Time</th>\n",
       "    </tr>\n",
       "  </thead>\n",
       "  <tbody>\n",
       "    <tr>\n",
       "      <th>234387</th>\n",
       "      <td>101_DEN084Y5_15_E03_009_clean.fcs</td>\n",
       "      <td>0.403857</td>\n",
       "      <td>0.325562</td>\n",
       "      <td>0.310123</td>\n",
       "      <td>0.194456</td>\n",
       "      <td>0.178665</td>\n",
       "      <td>0.272096</td>\n",
       "      <td>0.254525</td>\n",
       "      <td>0.242479</td>\n",
       "      <td>0.282847</td>\n",
       "      <td>0.237928</td>\n",
       "      <td>0.247936</td>\n",
       "      <td>0.587036</td>\n",
       "      <td>0.272754</td>\n",
       "      <td>0.637655</td>\n",
       "      <td>0.832343</td>\n",
       "    </tr>\n",
       "    <tr>\n",
       "      <th>43398</th>\n",
       "      <td>101_DEN084Y5_15_E03_009_clean.fcs</td>\n",
       "      <td>0.495163</td>\n",
       "      <td>0.386700</td>\n",
       "      <td>0.320121</td>\n",
       "      <td>0.146589</td>\n",
       "      <td>0.137310</td>\n",
       "      <td>0.266895</td>\n",
       "      <td>0.233296</td>\n",
       "      <td>0.221550</td>\n",
       "      <td>0.299568</td>\n",
       "      <td>0.233666</td>\n",
       "      <td>0.238637</td>\n",
       "      <td>0.586473</td>\n",
       "      <td>0.267327</td>\n",
       "      <td>0.628017</td>\n",
       "      <td>0.168456</td>\n",
       "    </tr>\n",
       "    <tr>\n",
       "      <th>279014</th>\n",
       "      <td>101_DEN084Y5_15_E01_008_clean.fcs</td>\n",
       "      <td>0.529986</td>\n",
       "      <td>0.417942</td>\n",
       "      <td>0.317021</td>\n",
       "      <td>0.527556</td>\n",
       "      <td>0.459034</td>\n",
       "      <td>0.287319</td>\n",
       "      <td>0.310727</td>\n",
       "      <td>0.281187</td>\n",
       "      <td>0.417927</td>\n",
       "      <td>0.302841</td>\n",
       "      <td>0.253692</td>\n",
       "      <td>0.257075</td>\n",
       "      <td>0.450266</td>\n",
       "      <td>0.296353</td>\n",
       "      <td>0.961764</td>\n",
       "    </tr>\n",
       "    <tr>\n",
       "      <th>234062</th>\n",
       "      <td>101_DEN084Y5_15_E05_010_clean.fcs</td>\n",
       "      <td>0.517539</td>\n",
       "      <td>0.398430</td>\n",
       "      <td>0.324737</td>\n",
       "      <td>0.178106</td>\n",
       "      <td>0.168312</td>\n",
       "      <td>0.264548</td>\n",
       "      <td>0.253658</td>\n",
       "      <td>0.684596</td>\n",
       "      <td>0.324576</td>\n",
       "      <td>0.244547</td>\n",
       "      <td>0.244326</td>\n",
       "      <td>0.432067</td>\n",
       "      <td>0.269009</td>\n",
       "      <td>0.267718</td>\n",
       "      <td>0.816393</td>\n",
       "    </tr>\n",
       "    <tr>\n",
       "      <th>45945</th>\n",
       "      <td>101_DEN084Y5_15_E03_009_clean.fcs</td>\n",
       "      <td>0.618173</td>\n",
       "      <td>0.526649</td>\n",
       "      <td>0.293446</td>\n",
       "      <td>0.235020</td>\n",
       "      <td>0.214836</td>\n",
       "      <td>0.273487</td>\n",
       "      <td>0.243639</td>\n",
       "      <td>0.276760</td>\n",
       "      <td>0.258647</td>\n",
       "      <td>0.255370</td>\n",
       "      <td>0.240111</td>\n",
       "      <td>0.282921</td>\n",
       "      <td>0.301616</td>\n",
       "      <td>0.225198</td>\n",
       "      <td>0.177502</td>\n",
       "    </tr>\n",
       "  </tbody>\n",
       "</table>\n",
       "</div>"
      ],
      "text/plain": [
       "                                sample_id     FSC-A     FSC-H     FSC-W  \\\n",
       "234387  101_DEN084Y5_15_E03_009_clean.fcs  0.403857  0.325562  0.310123   \n",
       "43398   101_DEN084Y5_15_E03_009_clean.fcs  0.495163  0.386700  0.320121   \n",
       "279014  101_DEN084Y5_15_E01_008_clean.fcs  0.529986  0.417942  0.317021   \n",
       "234062  101_DEN084Y5_15_E05_010_clean.fcs  0.517539  0.398430  0.324737   \n",
       "45945   101_DEN084Y5_15_E03_009_clean.fcs  0.618173  0.526649  0.293446   \n",
       "\n",
       "           SSC-A     SSC-H     SSC-W  TNFa FITC FLR-A  CD8 PerCP-Cy55 FLR-A  \\\n",
       "234387  0.194456  0.178665  0.272096         0.254525              0.242479   \n",
       "43398   0.146589  0.137310  0.266895         0.233296              0.221550   \n",
       "279014  0.527556  0.459034  0.287319         0.310727              0.281187   \n",
       "234062  0.178106  0.168312  0.264548         0.253658              0.684596   \n",
       "45945   0.235020  0.214836  0.273487         0.243639              0.276760   \n",
       "\n",
       "        IL2 BV421 FLR-A  Aqua Amine FLR-A  IFNg APC FLR-A  CD3 APC-H7 FLR-A  \\\n",
       "234387         0.282847          0.237928        0.247936          0.587036   \n",
       "43398          0.299568          0.233666        0.238637          0.586473   \n",
       "279014         0.417927          0.302841        0.253692          0.257075   \n",
       "234062         0.324576          0.244547        0.244326          0.432067   \n",
       "45945          0.258647          0.255370        0.240111          0.282921   \n",
       "\n",
       "        CD107a PE FLR-A  CD4 PE-Cy7 FLR-A      Time  \n",
       "234387         0.272754          0.637655  0.832343  \n",
       "43398          0.267327          0.628017  0.168456  \n",
       "279014         0.450266          0.296353  0.961764  \n",
       "234062         0.269009          0.267718  0.816393  \n",
       "45945          0.301616          0.225198  0.177502  "
      ]
     },
     "execution_count": 11,
     "metadata": {},
     "output_type": "execute_result"
    }
   ],
   "source": [
    "df.sample(5)"
   ]
  },
  {
   "cell_type": "markdown",
   "id": "3d69ec9c",
   "metadata": {},
   "source": [
    "## Populate AnnData object"
   ]
  },
  {
   "cell_type": "markdown",
   "id": "80b37f09",
   "metadata": {},
   "source": [
    "### Matrix of values"
   ]
  },
  {
   "cell_type": "code",
   "execution_count": 12,
   "id": "e1e02911",
   "metadata": {},
   "outputs": [],
   "source": [
    "data = df.iloc[:, 1:].values"
   ]
  },
  {
   "cell_type": "code",
   "execution_count": 13,
   "id": "95875641",
   "metadata": {},
   "outputs": [],
   "source": [
    "adata = ad.AnnData(data, dtype=data.dtype)"
   ]
  },
  {
   "cell_type": "code",
   "execution_count": 14,
   "id": "0f064179",
   "metadata": {},
   "outputs": [
    {
     "data": {
      "text/plain": [
       "AnnData object with n_obs × n_vars = 859431 × 15"
      ]
     },
     "execution_count": 14,
     "metadata": {},
     "output_type": "execute_result"
    }
   ],
   "source": [
    "adata"
   ]
  },
  {
   "cell_type": "code",
   "execution_count": 15,
   "id": "a2a067db",
   "metadata": {},
   "outputs": [
    {
     "data": {
      "text/plain": [
       "array([[0.66919339, 0.55024338, 0.30404428, ..., 0.30073305, 0.56641316,\n",
       "        0.03594016],\n",
       "       [0.47061452, 0.40513611, 0.29040521, ..., 0.27877141, 0.24435586,\n",
       "        0.03598285],\n",
       "       [0.6183387 , 0.51881409, 0.29795775, ..., 0.28183939, 0.26840002,\n",
       "        0.03602554],\n",
       "       ...,\n",
       "       [0.49872547, 0.42063522, 0.29641208, ..., 0.27990703, 0.61764152,\n",
       "        0.98959426],\n",
       "       [0.5290575 , 0.34724426, 0.38089722, ..., 0.61813569, 0.52649112,\n",
       "        0.98960942],\n",
       "       [0.39496988, 0.33108139, 0.2982423 , ..., 0.43869763, 0.62046722,\n",
       "        0.98960942]])"
      ]
     },
     "execution_count": 15,
     "metadata": {},
     "output_type": "execute_result"
    }
   ],
   "source": [
    "adata.X"
   ]
  },
  {
   "cell_type": "markdown",
   "id": "42251254",
   "metadata": {},
   "source": [
    "### Cell labels"
   ]
  },
  {
   "cell_type": "code",
   "execution_count": 16,
   "id": "d72c5e6d",
   "metadata": {},
   "outputs": [],
   "source": [
    "adata.obs_names = np.arange(adata.shape[0]).astype('str')"
   ]
  },
  {
   "cell_type": "markdown",
   "id": "c698f829",
   "metadata": {},
   "source": [
    "### Marker labels"
   ]
  },
  {
   "cell_type": "code",
   "execution_count": 17,
   "id": "8cd330d8",
   "metadata": {},
   "outputs": [],
   "source": [
    "adata.var_names = df.columns[1:]"
   ]
  },
  {
   "cell_type": "markdown",
   "id": "4f7d30ff",
   "metadata": {},
   "source": [
    "### Attach sample information to each cell"
   ]
  },
  {
   "cell_type": "code",
   "execution_count": 18,
   "id": "347f7381",
   "metadata": {},
   "outputs": [],
   "source": [
    "adata.obs['sample_id'] = pd.Categorical(df.sample_id)"
   ]
  },
  {
   "cell_type": "code",
   "execution_count": 19,
   "id": "0482bffe",
   "metadata": {},
   "outputs": [
    {
     "data": {
      "text/html": [
       "<div>\n",
       "<style scoped>\n",
       "    .dataframe tbody tr th:only-of-type {\n",
       "        vertical-align: middle;\n",
       "    }\n",
       "\n",
       "    .dataframe tbody tr th {\n",
       "        vertical-align: top;\n",
       "    }\n",
       "\n",
       "    .dataframe thead th {\n",
       "        text-align: right;\n",
       "    }\n",
       "</style>\n",
       "<table border=\"1\" class=\"dataframe\">\n",
       "  <thead>\n",
       "    <tr style=\"text-align: right;\">\n",
       "      <th></th>\n",
       "      <th>sample_id</th>\n",
       "    </tr>\n",
       "  </thead>\n",
       "  <tbody>\n",
       "    <tr>\n",
       "      <th>0</th>\n",
       "      <td>101_DEN084Y5_15_E01_008_clean.fcs</td>\n",
       "    </tr>\n",
       "    <tr>\n",
       "      <th>1</th>\n",
       "      <td>101_DEN084Y5_15_E01_008_clean.fcs</td>\n",
       "    </tr>\n",
       "    <tr>\n",
       "      <th>2</th>\n",
       "      <td>101_DEN084Y5_15_E01_008_clean.fcs</td>\n",
       "    </tr>\n",
       "  </tbody>\n",
       "</table>\n",
       "</div>"
      ],
      "text/plain": [
       "                           sample_id\n",
       "0  101_DEN084Y5_15_E01_008_clean.fcs\n",
       "1  101_DEN084Y5_15_E01_008_clean.fcs\n",
       "2  101_DEN084Y5_15_E01_008_clean.fcs"
      ]
     },
     "execution_count": 19,
     "metadata": {},
     "output_type": "execute_result"
    }
   ],
   "source": [
    "adata.obs.head(3)"
   ]
  },
  {
   "cell_type": "code",
   "execution_count": 20,
   "id": "ec6f3c21",
   "metadata": {},
   "outputs": [
    {
     "data": {
      "text/plain": [
       "AnnData object with n_obs × n_vars = 859431 × 15\n",
       "    obs: 'sample_id'"
      ]
     },
     "execution_count": 20,
     "metadata": {},
     "output_type": "execute_result"
    }
   ],
   "source": [
    "adata"
   ]
  },
  {
   "cell_type": "markdown",
   "id": "89923068",
   "metadata": {},
   "source": [
    "### Add Boolean matrix of gate indices"
   ]
  },
  {
   "cell_type": "code",
   "execution_count": 21,
   "id": "4d7c87dd",
   "metadata": {},
   "outputs": [],
   "source": [
    "gates.index = adata.obs['sample_id'].index\n",
    "adata.obsm['gate_index'] = gates"
   ]
  },
  {
   "cell_type": "code",
   "execution_count": 22,
   "id": "6536073f",
   "metadata": {},
   "outputs": [
    {
     "data": {
      "text/plain": [
       "AnnData object with n_obs × n_vars = 859431 × 15\n",
       "    obs: 'sample_id'\n",
       "    obsm: 'gate_index'"
      ]
     },
     "execution_count": 22,
     "metadata": {},
     "output_type": "execute_result"
    }
   ],
   "source": [
    "adata"
   ]
  },
  {
   "cell_type": "markdown",
   "id": "cd92086a",
   "metadata": {},
   "source": [
    "### Add unstrcutured data for gating hierarchy and transforms"
   ]
  },
  {
   "cell_type": "code",
   "execution_count": 23,
   "id": "871e4b0d",
   "metadata": {},
   "outputs": [
    {
     "data": {
      "text/plain": [
       "['101_DEN084Y5_15_E01_008_clean.fcs',\n",
       " '101_DEN084Y5_15_E03_009_clean.fcs',\n",
       " '101_DEN084Y5_15_E05_010_clean.fcs']"
      ]
     },
     "execution_count": 23,
     "metadata": {},
     "output_type": "execute_result"
    }
   ],
   "source": [
    "sample_ids"
   ]
  },
  {
   "cell_type": "markdown",
   "id": "0789a2a9",
   "metadata": {},
   "source": [
    "Need to convert transforms to str or cannot save to HDF5"
   ]
  },
  {
   "cell_type": "code",
   "execution_count": 24,
   "id": "6147107e",
   "metadata": {},
   "outputs": [],
   "source": [
    "gate_hierarchy = {sample_id: str(workspace.get_gate_hierarchy(sample_id)) for sample_id in sample_ids}"
   ]
  },
  {
   "cell_type": "code",
   "execution_count": 25,
   "id": "ccdc1cbc",
   "metadata": {},
   "outputs": [],
   "source": [
    "adata.uns['gate_hierarchy'] = gate_hierarchy"
   ]
  },
  {
   "cell_type": "code",
   "execution_count": 26,
   "id": "8da8f114",
   "metadata": {},
   "outputs": [],
   "source": [
    "transforms = {sample_id: str(workspace.get_transforms(sample_id)) for sample_id in sample_ids}"
   ]
  },
  {
   "cell_type": "code",
   "execution_count": 27,
   "id": "1e6beb6f",
   "metadata": {},
   "outputs": [],
   "source": [
    "adata.uns['transforms'] = transforms"
   ]
  },
  {
   "cell_type": "markdown",
   "id": "fd47a56e",
   "metadata": {},
   "source": [
    "### Add marker summary statistics"
   ]
  },
  {
   "cell_type": "code",
   "execution_count": 28,
   "id": "9d0db6ba",
   "metadata": {},
   "outputs": [],
   "source": [
    "stats = df.iloc[:10, 1:].describe()\n",
    "adata.varm['stats'] = stats.T"
   ]
  },
  {
   "cell_type": "code",
   "execution_count": 29,
   "id": "370496ac",
   "metadata": {},
   "outputs": [
    {
     "data": {
      "text/plain": [
       "AnnData object with n_obs × n_vars = 859431 × 15\n",
       "    obs: 'sample_id'\n",
       "    uns: 'gate_hierarchy', 'transforms'\n",
       "    obsm: 'gate_index'\n",
       "    varm: 'stats'"
      ]
     },
     "execution_count": 29,
     "metadata": {},
     "output_type": "execute_result"
    }
   ],
   "source": [
    "adata"
   ]
  },
  {
   "cell_type": "markdown",
   "id": "0810e3b0",
   "metadata": {},
   "source": [
    "### Save to disk"
   ]
  },
  {
   "cell_type": "code",
   "execution_count": 30,
   "id": "069810a9",
   "metadata": {
    "scrolled": false
   },
   "outputs": [],
   "source": [
    "adata.write('8_color_data_set.h5ad', compression=\"gzip\")"
   ]
  }
 ],
 "metadata": {
  "kernelspec": {
   "display_name": "Python 3 (ipykernel)",
   "language": "python",
   "name": "python3"
  },
  "language_info": {
   "codemirror_mode": {
    "name": "ipython",
    "version": 3
   },
   "file_extension": ".py",
   "mimetype": "text/x-python",
   "name": "python",
   "nbconvert_exporter": "python",
   "pygments_lexer": "ipython3",
   "version": "3.10.9"
  },
  "toc": {
   "base_numbering": 1,
   "nav_menu": {},
   "number_sections": true,
   "sideBar": true,
   "skip_h1_title": false,
   "title_cell": "Table of Contents",
   "title_sidebar": "Contents",
   "toc_cell": false,
   "toc_position": {},
   "toc_section_display": true,
   "toc_window_display": false
  }
 },
 "nbformat": 4,
 "nbformat_minor": 5
}
