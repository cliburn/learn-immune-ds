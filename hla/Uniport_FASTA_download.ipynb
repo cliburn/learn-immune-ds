{
 "cells": [
  {
   "cell_type": "markdown",
   "id": "c32309b7",
   "metadata": {},
   "source": [
    "# Download S. aureus FASTA files"
   ]
  },
  {
   "cell_type": "code",
   "execution_count": 1,
   "id": "19fadf1f",
   "metadata": {},
   "outputs": [],
   "source": [
    "import pandas as pd"
   ]
  },
  {
   "cell_type": "code",
   "execution_count": 6,
   "id": "90b23e91",
   "metadata": {},
   "outputs": [],
   "source": [
    "df = pd.read_excel('Highly Expressed genes S aureus.xlsx', header=None, skiprows=2)"
   ]
  },
  {
   "cell_type": "code",
   "execution_count": 17,
   "id": "63ef57a3",
   "metadata": {},
   "outputs": [],
   "source": [
    "proteins = df.iloc[:, [1,2]]\n",
    "proteins.columns = ['gene_id', 'name']"
   ]
  },
  {
   "cell_type": "code",
   "execution_count": 56,
   "id": "52495956",
   "metadata": {},
   "outputs": [
    {
     "name": "stdout",
     "output_type": "stream",
     "text": [
      "SAUSA300_1235,SAUSA300_2365,SAUSA300_2367,SAUSA300_2366,SAUSA300_2136,SAUSA300_1028,SAUSA300_1030,SAUSA300_1031,SAUSA300_1032,SAUSA300_1033,SAUSA300_1035,SAUSA300_0256,SAUSA300_0968,SAUSA300_0966,SAUSA300_0967,SAUSA300_0970,SAUSA300_0969,SAUSA300_1098,SAUSA300_1097,SAUSA300_0117,SAUSA300_0116,SAUSA300_1034,SAUSA300_2249,SAUSA300_0718,SAUSA300_0719,SAUSA300_0720,SAUSA300_0721\n"
     ]
    }
   ],
   "source": [
    "print(','.join(proteins.gene_id.tolist()))"
   ]
  },
  {
   "cell_type": "markdown",
   "id": "b5625898",
   "metadata": {},
   "source": [
    "## Use browser to convert\n",
    "\n",
    "Paste list into https://www.uniprot.org/id-mapping and saved results as `sa_highly_expressed_genes.fasta`\n",
    "\n",
    "\n",
    "### To do:\n",
    "\n",
    "API access\n",
    "https://rest.uniprot.org/docs/?urls.primaryName=idmapping#/job/submitJob\n",
    "\n",
    "```\n",
    "curl --form 'from=\"Gene_Name\"' \\\n",
    "     --form 'to=\"UniProtKB\"' \\\n",
    "     --form 'ids=\"SAUSA300_1235,SAUSA300_2365,SAUSA300_2367,SAUSA300_2366,SAUSA300_2136,SAUSA300_1028,SAUSA300_1030,SAUSA300_1031,SAUSA300_1032,SAUSA300_1033,SAUSA300_1035,SAUSA300_0256,SAUSA300_0968,SAUSA300_0966,SAUSA300_0967,SAUSA300_0970,SAUSA300_0969,SAUSA300_1098,SAUSA300_1097,SAUSA300_0117,SAUSA300_0116,SAUSA300_1034,SAUSA300_2249,SAUSA300_0718,SAUSA300_0719,SAUSA300_0720,SAUSA300_0721\"' \\\n",
    "     https://rest.uniprot.org/idmapping/run\n",
    "```\n",
    "\n",
    "See https://www.uniprot.org/help/api_queries for information on Python API access"
   ]
  }
 ],
 "metadata": {
  "kernelspec": {
   "display_name": "Python 3 (ipykernel)",
   "language": "python",
   "name": "python3"
  },
  "language_info": {
   "codemirror_mode": {
    "name": "ipython",
    "version": 3
   },
   "file_extension": ".py",
   "mimetype": "text/x-python",
   "name": "python",
   "nbconvert_exporter": "python",
   "pygments_lexer": "ipython3",
   "version": "3.10.6"
  },
  "toc": {
   "base_numbering": 1,
   "nav_menu": {},
   "number_sections": true,
   "sideBar": true,
   "skip_h1_title": false,
   "title_cell": "Table of Contents",
   "title_sidebar": "Contents",
   "toc_cell": false,
   "toc_position": {},
   "toc_section_display": true,
   "toc_window_display": false
  }
 },
 "nbformat": 4,
 "nbformat_minor": 5
}
