{
 "cells": [
  {
   "cell_type": "markdown",
   "id": "631e63bd-0072-468d-9e77-08647fb00fb4",
   "metadata": {},
   "source": [
    "# Comparing proteomes"
   ]
  },
  {
   "cell_type": "code",
   "execution_count": 30,
   "id": "359002b2-09bf-432d-9d7d-b5a3d4c13c5c",
   "metadata": {
    "tags": []
   },
   "outputs": [],
   "source": [
    "import numpy as np\n",
    "import pandas as pd\n",
    "import string\n",
    "import editdistance"
   ]
  },
  {
   "cell_type": "code",
   "execution_count": 124,
   "id": "b5e74adf-22bf-4915-8178-da0b1b49ce4b",
   "metadata": {
    "tags": []
   },
   "outputs": [],
   "source": [
    "n1 = 3000\n",
    "n2 = 3000\n",
    "protein_min = 20\n",
    "protein_max = 100\n",
    "name_len = 10\n",
    "\n",
    "# make up some fake protein names and thrir sequences\n",
    "proteome1 = np.array([''.join(np.random.choice(list('ATCG'), n)) for n in np.random.randint(protein_min, protein_max+1, n1)])\n",
    "proteome2 = np.array([''.join(np.random.choice(list('ATCG'), n)) for n in np.random.randint(protein_min, protein_max+1, n2)])\n",
    "names1 = [''.join(np.random.choice(list(string.ascii_lowercase), name_len)) for n in range(n1)]\n",
    "names2 = [''.join(np.random.choice(list(string.ascii_lowercase), name_len)) for n in range(n2)]\n",
    "\n",
    "# threshold for differnces\n",
    "threshold = 4\n",
    "# make 2/3 of proteins to be identical or almost identical in two proteomes\n",
    "idx = np.random.randint(0, 3, n1)[:n2]\n",
    "proteome2[idx<=1] = proteome1[idx<=1]\n",
    "for i in np.nonzero(idx==2)[0]:\n",
    "    s = proteome1[i]\n",
    "    # either delete, insert or replace first k letters\n",
    "    k = np.random.randint(1, threshold)\n",
    "    r = np.random.rand()\n",
    "    if r < 0.2: # deletion\n",
    "        s = s[k:]\n",
    "    elif r < 0.4: # insertion\n",
    "        s = 'X'*k + s\n",
    "    else: # mutation\n",
    "        for j in range(k):\n",
    "            t = list(s)\n",
    "            t[j] = 'X'\n",
    "            s = ''.join(t)\n",
    "    proteome2[i] = s\n",
    "\n",
    "d1 = dict(zip(names1, proteome1))\n",
    "d2 = dict(zip(names2, proteome2))"
   ]
  },
  {
   "cell_type": "code",
   "execution_count": 125,
   "id": "8462cc28-c01f-4395-a520-1452af614bde",
   "metadata": {
    "tags": []
   },
   "outputs": [
    {
     "name": "stdout",
     "output_type": "stream",
     "text": [
      "CPU times: user 17.4 s, sys: 150 ms, total: 17.6 s\n",
      "Wall time: 17.6 s\n"
     ]
    }
   ],
   "source": [
    "%%time\n",
    "pdist = []\n",
    "for p1 in d1:\n",
    "    for p2 in d2:\n",
    "        pdist.append((p1, p2, editdistance.eval(d1[p1], d2[p2])))"
   ]
  },
  {
   "cell_type": "code",
   "execution_count": 126,
   "id": "2469a85b-b8e1-450f-888f-f0f4d8f5f911",
   "metadata": {
    "tags": []
   },
   "outputs": [],
   "source": [
    "df = pd.DataFrame(pdist, columns=['p1', 'p2', 'd'])"
   ]
  },
  {
   "cell_type": "code",
   "execution_count": 127,
   "id": "77cd37ad-eb8b-4683-ae30-3906caa9158f",
   "metadata": {
    "tags": []
   },
   "outputs": [
    {
     "data": {
      "text/plain": [
       "(9000000, 3)"
      ]
     },
     "execution_count": 127,
     "metadata": {},
     "output_type": "execute_result"
    }
   ],
   "source": [
    "df.shape"
   ]
  },
  {
   "cell_type": "code",
   "execution_count": 128,
   "id": "8fa9154b-211c-434e-8768-8a325180ffb1",
   "metadata": {
    "tags": []
   },
   "outputs": [],
   "source": [
    "df = df.sort_values('d')"
   ]
  },
  {
   "cell_type": "code",
   "execution_count": 129,
   "id": "e362ef16-83a4-48d7-b10a-ed0c453f751e",
   "metadata": {
    "tags": []
   },
   "outputs": [
    {
     "data": {
      "text/plain": [
       "4"
      ]
     },
     "execution_count": 129,
     "metadata": {},
     "output_type": "execute_result"
    }
   ],
   "source": [
    "threshold"
   ]
  },
  {
   "cell_type": "code",
   "execution_count": 130,
   "id": "1ad3dcb3-40e2-41ab-8c2e-cdb75200cd01",
   "metadata": {
    "tags": []
   },
   "outputs": [
    {
     "name": "stdout",
     "output_type": "stream",
     "text": [
      "0 2026\n",
      "1 297\n",
      "2 349\n",
      "3 325\n"
     ]
    }
   ],
   "source": [
    "for i in range(threshold):\n",
    "    print(i, (df.d == i).sum())"
   ]
  },
  {
   "cell_type": "code",
   "execution_count": 132,
   "id": "090efb4e-76be-410e-bebf-fc80c89f28ce",
   "metadata": {
    "tags": []
   },
   "outputs": [
    {
     "data": {
      "text/html": [
       "<div>\n",
       "<style scoped>\n",
       "    .dataframe tbody tr th:only-of-type {\n",
       "        vertical-align: middle;\n",
       "    }\n",
       "\n",
       "    .dataframe tbody tr th {\n",
       "        vertical-align: top;\n",
       "    }\n",
       "\n",
       "    .dataframe thead th {\n",
       "        text-align: right;\n",
       "    }\n",
       "</style>\n",
       "<table border=\"1\" class=\"dataframe\">\n",
       "  <thead>\n",
       "    <tr style=\"text-align: right;\">\n",
       "      <th></th>\n",
       "      <th>p1</th>\n",
       "      <th>p2</th>\n",
       "    </tr>\n",
       "    <tr>\n",
       "      <th>d</th>\n",
       "      <th></th>\n",
       "      <th></th>\n",
       "    </tr>\n",
       "  </thead>\n",
       "  <tbody>\n",
       "    <tr>\n",
       "      <th>0</th>\n",
       "      <td>2026</td>\n",
       "      <td>2026</td>\n",
       "    </tr>\n",
       "    <tr>\n",
       "      <th>1</th>\n",
       "      <td>297</td>\n",
       "      <td>297</td>\n",
       "    </tr>\n",
       "    <tr>\n",
       "      <th>2</th>\n",
       "      <td>349</td>\n",
       "      <td>349</td>\n",
       "    </tr>\n",
       "    <tr>\n",
       "      <th>3</th>\n",
       "      <td>325</td>\n",
       "      <td>325</td>\n",
       "    </tr>\n",
       "    <tr>\n",
       "      <th>4</th>\n",
       "      <td>3</td>\n",
       "      <td>3</td>\n",
       "    </tr>\n",
       "    <tr>\n",
       "      <th>6</th>\n",
       "      <td>2</td>\n",
       "      <td>2</td>\n",
       "    </tr>\n",
       "    <tr>\n",
       "      <th>7</th>\n",
       "      <td>8</td>\n",
       "      <td>8</td>\n",
       "    </tr>\n",
       "    <tr>\n",
       "      <th>8</th>\n",
       "      <td>48</td>\n",
       "      <td>48</td>\n",
       "    </tr>\n",
       "    <tr>\n",
       "      <th>9</th>\n",
       "      <td>209</td>\n",
       "      <td>209</td>\n",
       "    </tr>\n",
       "    <tr>\n",
       "      <th>10</th>\n",
       "      <td>860</td>\n",
       "      <td>860</td>\n",
       "    </tr>\n",
       "  </tbody>\n",
       "</table>\n",
       "</div>"
      ],
      "text/plain": [
       "      p1    p2\n",
       "d             \n",
       "0   2026  2026\n",
       "1    297   297\n",
       "2    349   349\n",
       "3    325   325\n",
       "4      3     3\n",
       "6      2     2\n",
       "7      8     8\n",
       "8     48    48\n",
       "9    209   209\n",
       "10   860   860"
      ]
     },
     "execution_count": 132,
     "metadata": {},
     "output_type": "execute_result"
    }
   ],
   "source": [
    "summary = df.groupby('d').count()\n",
    "summary[:10]"
   ]
  },
  {
   "cell_type": "code",
   "execution_count": null,
   "id": "1e6ab652-9adb-4e42-bf93-f3368463046b",
   "metadata": {},
   "outputs": [],
   "source": []
  }
 ],
 "metadata": {
  "kernelspec": {
   "display_name": "Python 3 (ipykernel)",
   "language": "python",
   "name": "python3"
  },
  "language_info": {
   "codemirror_mode": {
    "name": "ipython",
    "version": 3
   },
   "file_extension": ".py",
   "mimetype": "text/x-python",
   "name": "python",
   "nbconvert_exporter": "python",
   "pygments_lexer": "ipython3",
   "version": "3.10.6"
  }
 },
 "nbformat": 4,
 "nbformat_minor": 5
}
