{
 "cells": [
  {
   "cell_type": "markdown",
   "id": "30a2bb76",
   "metadata": {},
   "source": [
    "# MHC Epitope Prediction\n",
    "\n",
    "Reference:\n",
    "\n",
    "- [`epitopepredict`](https://epitopepredict.readthedocs.io/en/latest/description.html#prediction-algorithms)\n",
    "  - [Python API](https://epitopepredict.readthedocs.io/en/latest/examples.html)"
   ]
  },
  {
   "cell_type": "markdown",
   "id": "a20196d6",
   "metadata": {},
   "source": [
    "- USA300\n",
    "- NCTC8325"
   ]
  },
  {
   "cell_type": "code",
   "execution_count": 1,
   "id": "7ae79a3b",
   "metadata": {
    "tags": []
   },
   "outputs": [],
   "source": [
    "import os\n",
    "import warnings"
   ]
  },
  {
   "cell_type": "code",
   "execution_count": 2,
   "id": "10e60bd9",
   "metadata": {
    "tags": []
   },
   "outputs": [],
   "source": [
    "warnings.simplefilter('ignore', FutureWarning)"
   ]
  },
  {
   "cell_type": "code",
   "execution_count": 3,
   "id": "38953432",
   "metadata": {
    "tags": []
   },
   "outputs": [],
   "source": [
    "import epitopepredict as ep\n",
    "from epitopepredict import base, sequtils, analysis, plotting"
   ]
  },
  {
   "cell_type": "markdown",
   "id": "a5060057",
   "metadata": {},
   "source": [
    "# Get list of predictors\n",
    "\n",
    "| name\t| description |\n",
    "|:- | :- |\n",
    "| basicmhc1\t| built-in MHC-class I predictor |\n",
    "| tepitope | implements the TEPITOPEPan method, built in (MHC-II)|\n",
    "| netMHCpan | http://www.cbs.dtu.dk/services/NetMHCpan/ (MHC-I) |\n",
    "| netMHCIIpan | http://www.cbs.dtu.dk/services/NetMHCIIpan/ (MHC-II) |\n",
    "| mhcflurry | https://github.com/openvax/mhcflurry (MHC-I) |\n",
    "| IEDB MHC-I tools | http://tools.immuneepitope.org/mhci/download/ |\n",
    "\n",
    "Only `tepitope`, `netmhciipan`, `netmhcpan`, `mhcflurry` are installed locally.\n"
   ]
  },
  {
   "cell_type": "code",
   "execution_count": 4,
   "id": "f614f38d",
   "metadata": {
    "tags": []
   },
   "outputs": [
    {
     "name": "stdout",
     "output_type": "stream",
     "text": [
      "['basicmhc1', 'tepitope', 'netmhciipan', 'netmhcpan', 'mhcflurry', 'iedbmhc1', 'iedbmhc2']\n"
     ]
    }
   ],
   "source": [
    "print(base.predictors)"
   ]
  },
  {
   "cell_type": "markdown",
   "id": "3c55d562",
   "metadata": {},
   "source": [
    "## S. aureus analysis\n",
    "\n",
    "Use hihgly expressedd proteins in `sa_highly_expressed_genes.fasta`"
   ]
  },
  {
   "cell_type": "code",
   "execution_count": 5,
   "id": "5215ccd9",
   "metadata": {
    "tags": []
   },
   "outputs": [
    {
     "name": "stdout",
     "output_type": "stream",
     "text": [
      "NCTC8325_UP000008816.fasta  USA300_UP000001939.fasta\n"
     ]
    }
   ],
   "source": [
    "ls seqs"
   ]
  },
  {
   "cell_type": "markdown",
   "id": "f7008efc",
   "metadata": {},
   "source": [
    "run predictions for a protein sequence:"
   ]
  },
  {
   "cell_type": "code",
   "execution_count": 6,
   "id": "85082449-43d5-4698-9feb-d65ca09bfb86",
   "metadata": {
    "tags": []
   },
   "outputs": [],
   "source": [
    "pids = ['NCTC8325_UP000008816', 'USA300_UP000001939']\n",
    "alleles = \"\"\"HLA-DRB1*04:01\n",
    "HLA-DRB1*04:02\n",
    "HLA-DRB1*15:01\n",
    "HLA-DRB1*01:01\"\"\".split()\n",
    "predictors = ['netmhciipan']"
   ]
  },
  {
   "cell_type": "code",
   "execution_count": 7,
   "id": "08a086eb",
   "metadata": {
    "tags": []
   },
   "outputs": [
    {
     "name": "stdout",
     "output_type": "stream",
     "text": [
      "took 41.21 seconds\n",
      "predictions done for 20021 sequences in 4 alleles\n",
      "results saved to /Users/ccc14/learning/learn-immune-ds/hla/results/NCTC8325_UP000008816.netmhciipan\n",
      "predictions done for 2607 sequences in 4 alleles\n",
      "results saved to /Users/ccc14/learning/learn-immune-ds/hla/results/USA300_UP000001939.netmhciipan\n",
      "CPU times: user 148 ms, sys: 73 ms, total: 221 ms\n",
      "Wall time: 49 s\n"
     ]
    }
   ],
   "source": [
    "%%time\n",
    "\n",
    "np = 8\n",
    "for pid in pids:\n",
    "    df = sequtils.fasta_to_dataframe(f'seqs/{pid}.fasta')\n",
    "    for predictor in predictors:\n",
    "        p = base.get_predictor()\n",
    "        p.predict_proteins(df, \n",
    "                           length=11, \n",
    "                           alleles=alleles,\n",
    "                           save=True, \n",
    "                           path=f'results/{pid}.{predictor}',\n",
    "                           threads=np)"
   ]
  },
  {
   "cell_type": "markdown",
   "id": "b17210a5",
   "metadata": {},
   "source": [
    "### Load and analyze"
   ]
  },
  {
   "cell_type": "code",
   "execution_count": 8,
   "id": "0274d5c1",
   "metadata": {
    "tags": []
   },
   "outputs": [],
   "source": [
    "pid = 'NCTC8325_UP000008816'\n",
    "predictor = 'netmhciipan'\n",
    "path = f'results/{pid}.{predictor}'\n",
    "p.load(path=path)"
   ]
  },
  {
   "cell_type": "markdown",
   "id": "1f67c552",
   "metadata": {},
   "source": [
    "get all the binders using the current data loaded into the predictor"
   ]
  },
  {
   "cell_type": "code",
   "execution_count": 9,
   "id": "bbc3b8dd",
   "metadata": {
    "tags": []
   },
   "outputs": [],
   "source": [
    "#default is to use percentile cutoff per allele, returns a dataframe\n",
    "binders = p.get_binders(cutoff=.95)"
   ]
  },
  {
   "cell_type": "code",
   "execution_count": 10,
   "id": "a4360093",
   "metadata": {
    "tags": []
   },
   "outputs": [
    {
     "data": {
      "text/plain": [
       "(904697, 7)"
      ]
     },
     "execution_count": 10,
     "metadata": {},
     "output_type": "execute_result"
    }
   ],
   "source": [
    "binders.shape"
   ]
  },
  {
   "cell_type": "code",
   "execution_count": 11,
   "id": "868efc47",
   "metadata": {
    "tags": []
   },
   "outputs": [
    {
     "data": {
      "text/html": [
       "<div>\n",
       "<style scoped>\n",
       "    .dataframe tbody tr th:only-of-type {\n",
       "        vertical-align: middle;\n",
       "    }\n",
       "\n",
       "    .dataframe tbody tr th {\n",
       "        vertical-align: top;\n",
       "    }\n",
       "\n",
       "    .dataframe thead th {\n",
       "        text-align: right;\n",
       "    }\n",
       "</style>\n",
       "<table border=\"1\" class=\"dataframe\">\n",
       "  <thead>\n",
       "    <tr style=\"text-align: right;\">\n",
       "      <th></th>\n",
       "      <th>allele</th>\n",
       "      <th>core</th>\n",
       "      <th>name</th>\n",
       "      <th>peptide</th>\n",
       "      <th>pos</th>\n",
       "      <th>rank</th>\n",
       "      <th>score</th>\n",
       "    </tr>\n",
       "  </thead>\n",
       "  <tbody>\n",
       "    <tr>\n",
       "      <th>4</th>\n",
       "      <td>HLA-DRB1*1501</td>\n",
       "      <td>VRIFQNLII</td>\n",
       "      <td>tr_A0A2T4Q2K9_A0A2T4Q2K9_STAWA</td>\n",
       "      <td>YSVRIFQNLII</td>\n",
       "      <td>4</td>\n",
       "      <td>1.0</td>\n",
       "      <td>9.40</td>\n",
       "    </tr>\n",
       "    <tr>\n",
       "      <th>5</th>\n",
       "      <td>HLA-DRB1*1501</td>\n",
       "      <td>VRIFQNLII</td>\n",
       "      <td>tr_A0A2T4Q2K9_A0A2T4Q2K9_STAWA</td>\n",
       "      <td>SVRIFQNLIIN</td>\n",
       "      <td>5</td>\n",
       "      <td>1.0</td>\n",
       "      <td>9.40</td>\n",
       "    </tr>\n",
       "    <tr>\n",
       "      <th>6</th>\n",
       "      <td>HLA-DRB1*1501</td>\n",
       "      <td>VRIFQNLII</td>\n",
       "      <td>tr_A0A2T4Q2K9_A0A2T4Q2K9_STAWA</td>\n",
       "      <td>VRIFQNLIINN</td>\n",
       "      <td>6</td>\n",
       "      <td>1.0</td>\n",
       "      <td>9.40</td>\n",
       "    </tr>\n",
       "    <tr>\n",
       "      <th>425</th>\n",
       "      <td>HLA-DRB1*1501</td>\n",
       "      <td>LRMYGNIDI</td>\n",
       "      <td>sp_Q5HMP3_AACA_STAEQ</td>\n",
       "      <td>LRMYGNIDIEK</td>\n",
       "      <td>425</td>\n",
       "      <td>1.0</td>\n",
       "      <td>9.00</td>\n",
       "    </tr>\n",
       "    <tr>\n",
       "      <th>423</th>\n",
       "      <td>HLA-DRB1*1501</td>\n",
       "      <td>LRMYGNIDI</td>\n",
       "      <td>sp_Q5HMP3_AACA_STAEQ</td>\n",
       "      <td>DILRMYGNIDI</td>\n",
       "      <td>423</td>\n",
       "      <td>1.0</td>\n",
       "      <td>9.00</td>\n",
       "    </tr>\n",
       "    <tr>\n",
       "      <th>424</th>\n",
       "      <td>HLA-DRB1*1501</td>\n",
       "      <td>LRMYGNIDI</td>\n",
       "      <td>sp_Q5HMP3_AACA_STAEQ</td>\n",
       "      <td>ILRMYGNIDIE</td>\n",
       "      <td>424</td>\n",
       "      <td>1.0</td>\n",
       "      <td>9.00</td>\n",
       "    </tr>\n",
       "    <tr>\n",
       "      <th>97</th>\n",
       "      <td>HLA-DRB1*1501</td>\n",
       "      <td>MRLFARLSL</td>\n",
       "      <td>tr_Q2G049_Q2G049_STAA8</td>\n",
       "      <td>SMRLFARLSLD</td>\n",
       "      <td>97</td>\n",
       "      <td>1.0</td>\n",
       "      <td>9.00</td>\n",
       "    </tr>\n",
       "    <tr>\n",
       "      <th>98</th>\n",
       "      <td>HLA-DRB1*1501</td>\n",
       "      <td>MRLFARLSL</td>\n",
       "      <td>tr_Q2G049_Q2G049_STAA8</td>\n",
       "      <td>MRLFARLSLDS</td>\n",
       "      <td>98</td>\n",
       "      <td>1.0</td>\n",
       "      <td>9.00</td>\n",
       "    </tr>\n",
       "    <tr>\n",
       "      <th>96</th>\n",
       "      <td>HLA-DRB1*1501</td>\n",
       "      <td>MRLFARLSL</td>\n",
       "      <td>tr_Q2G049_Q2G049_STAA8</td>\n",
       "      <td>ASMRLFARLSL</td>\n",
       "      <td>96</td>\n",
       "      <td>1.0</td>\n",
       "      <td>9.00</td>\n",
       "    </tr>\n",
       "    <tr>\n",
       "      <th>269</th>\n",
       "      <td>HLA-DRB1*1501</td>\n",
       "      <td>VRLYVSLDI</td>\n",
       "      <td>tr_A0A4U9T8R6_A0A4U9T8R6_STACP</td>\n",
       "      <td>IVRLYVSLDID</td>\n",
       "      <td>269</td>\n",
       "      <td>1.0</td>\n",
       "      <td>8.90</td>\n",
       "    </tr>\n",
       "    <tr>\n",
       "      <th>268</th>\n",
       "      <td>HLA-DRB1*1501</td>\n",
       "      <td>VRLYVSLDI</td>\n",
       "      <td>tr_A0A4U9T8R6_A0A4U9T8R6_STACP</td>\n",
       "      <td>SIVRLYVSLDI</td>\n",
       "      <td>268</td>\n",
       "      <td>1.0</td>\n",
       "      <td>8.90</td>\n",
       "    </tr>\n",
       "    <tr>\n",
       "      <th>270</th>\n",
       "      <td>HLA-DRB1*1501</td>\n",
       "      <td>VRLYVSLDI</td>\n",
       "      <td>tr_A0A4U9T8R6_A0A4U9T8R6_STACP</td>\n",
       "      <td>VRLYVSLDIDI</td>\n",
       "      <td>270</td>\n",
       "      <td>1.0</td>\n",
       "      <td>8.90</td>\n",
       "    </tr>\n",
       "    <tr>\n",
       "      <th>172</th>\n",
       "      <td>HLA-DRB1*1501</td>\n",
       "      <td>VRYFSRMII</td>\n",
       "      <td>tr_Q2FXF6_Q2FXF6_STAA8</td>\n",
       "      <td>GFVRYFSRMII</td>\n",
       "      <td>172</td>\n",
       "      <td>1.0</td>\n",
       "      <td>8.80</td>\n",
       "    </tr>\n",
       "    <tr>\n",
       "      <th>173</th>\n",
       "      <td>HLA-DRB1*1501</td>\n",
       "      <td>VRYFSRMII</td>\n",
       "      <td>tr_Q2FXF6_Q2FXF6_STAA8</td>\n",
       "      <td>FVRYFSRMIIP</td>\n",
       "      <td>173</td>\n",
       "      <td>1.0</td>\n",
       "      <td>8.80</td>\n",
       "    </tr>\n",
       "    <tr>\n",
       "      <th>174</th>\n",
       "      <td>HLA-DRB1*1501</td>\n",
       "      <td>VRYFSRMII</td>\n",
       "      <td>tr_Q2FXF6_Q2FXF6_STAA8</td>\n",
       "      <td>VRYFSRMIIPN</td>\n",
       "      <td>174</td>\n",
       "      <td>1.0</td>\n",
       "      <td>8.80</td>\n",
       "    </tr>\n",
       "    <tr>\n",
       "      <th>3</th>\n",
       "      <td>HLA-DRB1*1501</td>\n",
       "      <td>IRMYFILTI</td>\n",
       "      <td>tr_A0A2T4Q2M1_A0A2T4Q2M1_STAWA</td>\n",
       "      <td>IRMYFILTILI</td>\n",
       "      <td>3</td>\n",
       "      <td>1.0</td>\n",
       "      <td>8.75</td>\n",
       "    </tr>\n",
       "    <tr>\n",
       "      <th>2</th>\n",
       "      <td>HLA-DRB1*1501</td>\n",
       "      <td>IRMYFILTI</td>\n",
       "      <td>tr_A0A2T4Q2M1_A0A2T4Q2M1_STAWA</td>\n",
       "      <td>HIRMYFILTIL</td>\n",
       "      <td>2</td>\n",
       "      <td>1.0</td>\n",
       "      <td>8.75</td>\n",
       "    </tr>\n",
       "    <tr>\n",
       "      <th>1</th>\n",
       "      <td>HLA-DRB1*1501</td>\n",
       "      <td>IRMYFILTI</td>\n",
       "      <td>tr_A0A2T4Q2M1_A0A2T4Q2M1_STAWA</td>\n",
       "      <td>KHIRMYFILTI</td>\n",
       "      <td>1</td>\n",
       "      <td>1.0</td>\n",
       "      <td>8.75</td>\n",
       "    </tr>\n",
       "    <tr>\n",
       "      <th>90</th>\n",
       "      <td>HLA-DRB1*1501</td>\n",
       "      <td>IVMFNSINI</td>\n",
       "      <td>tr_A0A4U9T3N0_A0A4U9T3N0_STACP</td>\n",
       "      <td>IVMFNSINIGA</td>\n",
       "      <td>90</td>\n",
       "      <td>1.0</td>\n",
       "      <td>8.70</td>\n",
       "    </tr>\n",
       "    <tr>\n",
       "      <th>89</th>\n",
       "      <td>HLA-DRB1*1501</td>\n",
       "      <td>IVMFNSINI</td>\n",
       "      <td>tr_A0A4U9T3N0_A0A4U9T3N0_STACP</td>\n",
       "      <td>EIVMFNSINIG</td>\n",
       "      <td>89</td>\n",
       "      <td>1.0</td>\n",
       "      <td>8.70</td>\n",
       "    </tr>\n",
       "    <tr>\n",
       "      <th>88</th>\n",
       "      <td>HLA-DRB1*1501</td>\n",
       "      <td>IVMFNSINI</td>\n",
       "      <td>tr_A0A4U9T3N0_A0A4U9T3N0_STACP</td>\n",
       "      <td>VEIVMFNSINI</td>\n",
       "      <td>88</td>\n",
       "      <td>1.0</td>\n",
       "      <td>8.70</td>\n",
       "    </tr>\n",
       "    <tr>\n",
       "      <th>228</th>\n",
       "      <td>HLA-DRB1*1501</td>\n",
       "      <td>IVIFFILNI</td>\n",
       "      <td>tr_Q2FWX0_Q2FWX0_STAA8</td>\n",
       "      <td>SIVIFFILNIL</td>\n",
       "      <td>228</td>\n",
       "      <td>1.0</td>\n",
       "      <td>8.65</td>\n",
       "    </tr>\n",
       "    <tr>\n",
       "      <th>229</th>\n",
       "      <td>HLA-DRB1*1501</td>\n",
       "      <td>IVIFFILNI</td>\n",
       "      <td>tr_Q2FWX0_Q2FWX0_STAA8</td>\n",
       "      <td>IVIFFILNILY</td>\n",
       "      <td>229</td>\n",
       "      <td>1.0</td>\n",
       "      <td>8.65</td>\n",
       "    </tr>\n",
       "    <tr>\n",
       "      <th>227</th>\n",
       "      <td>HLA-DRB1*1501</td>\n",
       "      <td>IVIFFILNI</td>\n",
       "      <td>tr_Q2FWX0_Q2FWX0_STAA8</td>\n",
       "      <td>GSIVIFFILNI</td>\n",
       "      <td>227</td>\n",
       "      <td>1.0</td>\n",
       "      <td>8.65</td>\n",
       "    </tr>\n",
       "    <tr>\n",
       "      <th>280</th>\n",
       "      <td>HLA-DRB1*1501</td>\n",
       "      <td>IVIFLYIKI</td>\n",
       "      <td>tr_A0A380DQ78_A0A380DQ78_STAAU</td>\n",
       "      <td>IVIFLYIKIGD</td>\n",
       "      <td>280</td>\n",
       "      <td>1.0</td>\n",
       "      <td>8.60</td>\n",
       "    </tr>\n",
       "  </tbody>\n",
       "</table>\n",
       "</div>"
      ],
      "text/plain": [
       "            allele       core                            name      peptide   \n",
       "4    HLA-DRB1*1501  VRIFQNLII  tr_A0A2T4Q2K9_A0A2T4Q2K9_STAWA  YSVRIFQNLII  \\\n",
       "5    HLA-DRB1*1501  VRIFQNLII  tr_A0A2T4Q2K9_A0A2T4Q2K9_STAWA  SVRIFQNLIIN   \n",
       "6    HLA-DRB1*1501  VRIFQNLII  tr_A0A2T4Q2K9_A0A2T4Q2K9_STAWA  VRIFQNLIINN   \n",
       "425  HLA-DRB1*1501  LRMYGNIDI            sp_Q5HMP3_AACA_STAEQ  LRMYGNIDIEK   \n",
       "423  HLA-DRB1*1501  LRMYGNIDI            sp_Q5HMP3_AACA_STAEQ  DILRMYGNIDI   \n",
       "424  HLA-DRB1*1501  LRMYGNIDI            sp_Q5HMP3_AACA_STAEQ  ILRMYGNIDIE   \n",
       "97   HLA-DRB1*1501  MRLFARLSL          tr_Q2G049_Q2G049_STAA8  SMRLFARLSLD   \n",
       "98   HLA-DRB1*1501  MRLFARLSL          tr_Q2G049_Q2G049_STAA8  MRLFARLSLDS   \n",
       "96   HLA-DRB1*1501  MRLFARLSL          tr_Q2G049_Q2G049_STAA8  ASMRLFARLSL   \n",
       "269  HLA-DRB1*1501  VRLYVSLDI  tr_A0A4U9T8R6_A0A4U9T8R6_STACP  IVRLYVSLDID   \n",
       "268  HLA-DRB1*1501  VRLYVSLDI  tr_A0A4U9T8R6_A0A4U9T8R6_STACP  SIVRLYVSLDI   \n",
       "270  HLA-DRB1*1501  VRLYVSLDI  tr_A0A4U9T8R6_A0A4U9T8R6_STACP  VRLYVSLDIDI   \n",
       "172  HLA-DRB1*1501  VRYFSRMII          tr_Q2FXF6_Q2FXF6_STAA8  GFVRYFSRMII   \n",
       "173  HLA-DRB1*1501  VRYFSRMII          tr_Q2FXF6_Q2FXF6_STAA8  FVRYFSRMIIP   \n",
       "174  HLA-DRB1*1501  VRYFSRMII          tr_Q2FXF6_Q2FXF6_STAA8  VRYFSRMIIPN   \n",
       "3    HLA-DRB1*1501  IRMYFILTI  tr_A0A2T4Q2M1_A0A2T4Q2M1_STAWA  IRMYFILTILI   \n",
       "2    HLA-DRB1*1501  IRMYFILTI  tr_A0A2T4Q2M1_A0A2T4Q2M1_STAWA  HIRMYFILTIL   \n",
       "1    HLA-DRB1*1501  IRMYFILTI  tr_A0A2T4Q2M1_A0A2T4Q2M1_STAWA  KHIRMYFILTI   \n",
       "90   HLA-DRB1*1501  IVMFNSINI  tr_A0A4U9T3N0_A0A4U9T3N0_STACP  IVMFNSINIGA   \n",
       "89   HLA-DRB1*1501  IVMFNSINI  tr_A0A4U9T3N0_A0A4U9T3N0_STACP  EIVMFNSINIG   \n",
       "88   HLA-DRB1*1501  IVMFNSINI  tr_A0A4U9T3N0_A0A4U9T3N0_STACP  VEIVMFNSINI   \n",
       "228  HLA-DRB1*1501  IVIFFILNI          tr_Q2FWX0_Q2FWX0_STAA8  SIVIFFILNIL   \n",
       "229  HLA-DRB1*1501  IVIFFILNI          tr_Q2FWX0_Q2FWX0_STAA8  IVIFFILNILY   \n",
       "227  HLA-DRB1*1501  IVIFFILNI          tr_Q2FWX0_Q2FWX0_STAA8  GSIVIFFILNI   \n",
       "280  HLA-DRB1*1501  IVIFLYIKI  tr_A0A380DQ78_A0A380DQ78_STAAU  IVIFLYIKIGD   \n",
       "\n",
       "     pos  rank  score  \n",
       "4      4   1.0   9.40  \n",
       "5      5   1.0   9.40  \n",
       "6      6   1.0   9.40  \n",
       "425  425   1.0   9.00  \n",
       "423  423   1.0   9.00  \n",
       "424  424   1.0   9.00  \n",
       "97    97   1.0   9.00  \n",
       "98    98   1.0   9.00  \n",
       "96    96   1.0   9.00  \n",
       "269  269   1.0   8.90  \n",
       "268  268   1.0   8.90  \n",
       "270  270   1.0   8.90  \n",
       "172  172   1.0   8.80  \n",
       "173  173   1.0   8.80  \n",
       "174  174   1.0   8.80  \n",
       "3      3   1.0   8.75  \n",
       "2      2   1.0   8.75  \n",
       "1      1   1.0   8.75  \n",
       "90    90   1.0   8.70  \n",
       "89    89   1.0   8.70  \n",
       "88    88   1.0   8.70  \n",
       "228  228   1.0   8.65  \n",
       "229  229   1.0   8.65  \n",
       "227  227   1.0   8.65  \n",
       "280  280   1.0   8.60  "
      ]
     },
     "execution_count": 11,
     "metadata": {},
     "output_type": "execute_result"
    }
   ],
   "source": [
    "binders.sort_values('score', ascending=False).head(25)"
   ]
  },
  {
   "cell_type": "markdown",
   "id": "898ac574",
   "metadata": {},
   "source": [
    "get binders for only one protein by top median rank"
   ]
  },
  {
   "cell_type": "code",
   "execution_count": 12,
   "id": "e780de89",
   "metadata": {
    "tags": []
   },
   "outputs": [
    {
     "data": {
      "text/plain": [
       "'sp_Q2FHP2_LSPA_STAA3'"
      ]
     },
     "execution_count": 12,
     "metadata": {},
     "output_type": "execute_result"
    }
   ],
   "source": [
    "name = df.iloc[0,0]\n",
    "name"
   ]
  },
  {
   "cell_type": "code",
   "execution_count": 13,
   "id": "a802df44",
   "metadata": {
    "tags": []
   },
   "outputs": [
    {
     "data": {
      "text/html": [
       "<div>\n",
       "<style scoped>\n",
       "    .dataframe tbody tr th:only-of-type {\n",
       "        vertical-align: middle;\n",
       "    }\n",
       "\n",
       "    .dataframe tbody tr th {\n",
       "        vertical-align: top;\n",
       "    }\n",
       "\n",
       "    .dataframe thead th {\n",
       "        text-align: right;\n",
       "    }\n",
       "</style>\n",
       "<table border=\"1\" class=\"dataframe\">\n",
       "  <thead>\n",
       "    <tr style=\"text-align: right;\">\n",
       "      <th></th>\n",
       "      <th>allele</th>\n",
       "      <th>core</th>\n",
       "      <th>name</th>\n",
       "      <th>peptide</th>\n",
       "      <th>pos</th>\n",
       "      <th>rank</th>\n",
       "      <th>score</th>\n",
       "    </tr>\n",
       "  </thead>\n",
       "  <tbody>\n",
       "    <tr>\n",
       "      <th>142</th>\n",
       "      <td>HLA-DRB1*0401</td>\n",
       "      <td>YVIQEFNKA</td>\n",
       "      <td>tr_A0A1F1BWF7_A0A1F1BWF7_9STAP</td>\n",
       "      <td>LFYVIQEFNKA</td>\n",
       "      <td>142</td>\n",
       "      <td>1.0</td>\n",
       "      <td>3.90</td>\n",
       "    </tr>\n",
       "    <tr>\n",
       "      <th>43</th>\n",
       "      <td>HLA-DRB1*1501</td>\n",
       "      <td>VLVYLLIQS</td>\n",
       "      <td>tr_A0A8I1BDL0_A0A8I1BDL0_STAEP</td>\n",
       "      <td>FVLVYLLIQSI</td>\n",
       "      <td>43</td>\n",
       "      <td>1.0</td>\n",
       "      <td>5.40</td>\n",
       "    </tr>\n",
       "    <tr>\n",
       "      <th>42</th>\n",
       "      <td>HLA-DRB1*1501</td>\n",
       "      <td>VLVYLLIQS</td>\n",
       "      <td>tr_A0A8I1BDL0_A0A8I1BDL0_STAEP</td>\n",
       "      <td>QFVLVYLLIQS</td>\n",
       "      <td>42</td>\n",
       "      <td>1.0</td>\n",
       "      <td>5.40</td>\n",
       "    </tr>\n",
       "    <tr>\n",
       "      <th>8</th>\n",
       "      <td>HLA-DRB1*0402</td>\n",
       "      <td>IVLLNSLSK</td>\n",
       "      <td>tr_A0A8I1BDL0_A0A8I1BDL0_STAEP</td>\n",
       "      <td>IVLLNSLSKYI</td>\n",
       "      <td>8</td>\n",
       "      <td>1.0</td>\n",
       "      <td>4.20</td>\n",
       "    </tr>\n",
       "    <tr>\n",
       "      <th>7</th>\n",
       "      <td>HLA-DRB1*0402</td>\n",
       "      <td>IVLLNSLSK</td>\n",
       "      <td>tr_A0A8I1BDL0_A0A8I1BDL0_STAEP</td>\n",
       "      <td>LIVLLNSLSKY</td>\n",
       "      <td>7</td>\n",
       "      <td>1.0</td>\n",
       "      <td>4.20</td>\n",
       "    </tr>\n",
       "    <tr>\n",
       "      <th>...</th>\n",
       "      <td>...</td>\n",
       "      <td>...</td>\n",
       "      <td>...</td>\n",
       "      <td>...</td>\n",
       "      <td>...</td>\n",
       "      <td>...</td>\n",
       "      <td>...</td>\n",
       "    </tr>\n",
       "    <tr>\n",
       "      <th>4</th>\n",
       "      <td>HLA-DRB1*0101</td>\n",
       "      <td>MKRERMLTI</td>\n",
       "      <td>tr_A0A0E1VN37_A0A0E1VN37_STAA3</td>\n",
       "      <td>IPMKRERMLTI</td>\n",
       "      <td>4</td>\n",
       "      <td>5.0</td>\n",
       "      <td>-0.40</td>\n",
       "    </tr>\n",
       "    <tr>\n",
       "      <th>5</th>\n",
       "      <td>HLA-DRB1*0101</td>\n",
       "      <td>MKRERMLTI</td>\n",
       "      <td>tr_A0A0E1VN37_A0A0E1VN37_STAA3</td>\n",
       "      <td>PMKRERMLTIR</td>\n",
       "      <td>5</td>\n",
       "      <td>5.0</td>\n",
       "      <td>-0.40</td>\n",
       "    </tr>\n",
       "    <tr>\n",
       "      <th>6</th>\n",
       "      <td>HLA-DRB1*0101</td>\n",
       "      <td>MKRERMLTI</td>\n",
       "      <td>tr_A0A0E1VN37_A0A0E1VN37_STAA3</td>\n",
       "      <td>MKRERMLTIRV</td>\n",
       "      <td>6</td>\n",
       "      <td>5.0</td>\n",
       "      <td>-0.40</td>\n",
       "    </tr>\n",
       "    <tr>\n",
       "      <th>0</th>\n",
       "      <td>HLA-DRB1*0401</td>\n",
       "      <td>VRKANYTLH</td>\n",
       "      <td>tr_A0A654CAD3_A0A654CAD3_9STAP</td>\n",
       "      <td>MEVRKANYTLH</td>\n",
       "      <td>0</td>\n",
       "      <td>5.0</td>\n",
       "      <td>-0.32</td>\n",
       "    </tr>\n",
       "    <tr>\n",
       "      <th>71</th>\n",
       "      <td>HLA-DRB1*0101</td>\n",
       "      <td>LGSYKSYWM</td>\n",
       "      <td>tr_A0A380EAE3_A0A380EAE3_STAAU</td>\n",
       "      <td>LGSYKSYWMED</td>\n",
       "      <td>71</td>\n",
       "      <td>5.0</td>\n",
       "      <td>-1.42</td>\n",
       "    </tr>\n",
       "  </tbody>\n",
       "</table>\n",
       "<p>491767 rows × 7 columns</p>\n",
       "</div>"
      ],
      "text/plain": [
       "            allele       core                            name      peptide   \n",
       "142  HLA-DRB1*0401  YVIQEFNKA  tr_A0A1F1BWF7_A0A1F1BWF7_9STAP  LFYVIQEFNKA  \\\n",
       "43   HLA-DRB1*1501  VLVYLLIQS  tr_A0A8I1BDL0_A0A8I1BDL0_STAEP  FVLVYLLIQSI   \n",
       "42   HLA-DRB1*1501  VLVYLLIQS  tr_A0A8I1BDL0_A0A8I1BDL0_STAEP  QFVLVYLLIQS   \n",
       "8    HLA-DRB1*0402  IVLLNSLSK  tr_A0A8I1BDL0_A0A8I1BDL0_STAEP  IVLLNSLSKYI   \n",
       "7    HLA-DRB1*0402  IVLLNSLSK  tr_A0A8I1BDL0_A0A8I1BDL0_STAEP  LIVLLNSLSKY   \n",
       "..             ...        ...                             ...          ...   \n",
       "4    HLA-DRB1*0101  MKRERMLTI  tr_A0A0E1VN37_A0A0E1VN37_STAA3  IPMKRERMLTI   \n",
       "5    HLA-DRB1*0101  MKRERMLTI  tr_A0A0E1VN37_A0A0E1VN37_STAA3  PMKRERMLTIR   \n",
       "6    HLA-DRB1*0101  MKRERMLTI  tr_A0A0E1VN37_A0A0E1VN37_STAA3  MKRERMLTIRV   \n",
       "0    HLA-DRB1*0401  VRKANYTLH  tr_A0A654CAD3_A0A654CAD3_9STAP  MEVRKANYTLH   \n",
       "71   HLA-DRB1*0101  LGSYKSYWM  tr_A0A380EAE3_A0A380EAE3_STAAU  LGSYKSYWMED   \n",
       "\n",
       "     pos  rank  score  \n",
       "142  142   1.0   3.90  \n",
       "43    43   1.0   5.40  \n",
       "42    42   1.0   5.40  \n",
       "8      8   1.0   4.20  \n",
       "7      7   1.0   4.20  \n",
       "..   ...   ...    ...  \n",
       "4      4   5.0  -0.40  \n",
       "5      5   5.0  -0.40  \n",
       "6      6   5.0  -0.40  \n",
       "0      0   5.0  -0.32  \n",
       "71    71   5.0  -1.42  \n",
       "\n",
       "[491767 rows x 7 columns]"
      ]
     },
     "execution_count": 13,
     "metadata": {},
     "output_type": "execute_result"
    }
   ],
   "source": [
    "p.get_binders(name=name, cutoff=5, cutoff_method='rank').sort_values('rank')"
   ]
  },
  {
   "cell_type": "markdown",
   "id": "62ad84bb",
   "metadata": {},
   "source": [
    "get all promiscuous binders"
   ]
  },
  {
   "cell_type": "code",
   "execution_count": 14,
   "id": "8b7ac866",
   "metadata": {
    "tags": []
   },
   "outputs": [],
   "source": [
    "pb = p.promiscuous_binders(n=2, cutoff=.95)"
   ]
  },
  {
   "cell_type": "code",
   "execution_count": 15,
   "id": "1afd868f",
   "metadata": {
    "tags": []
   },
   "outputs": [
    {
     "data": {
      "text/plain": [
       "(67136, 8)"
      ]
     },
     "execution_count": 15,
     "metadata": {},
     "output_type": "execute_result"
    }
   ],
   "source": [
    "pb.shape"
   ]
  },
  {
   "cell_type": "code",
   "execution_count": 16,
   "id": "20985962",
   "metadata": {
    "tags": []
   },
   "outputs": [
    {
     "data": {
      "text/html": [
       "<div>\n",
       "<style scoped>\n",
       "    .dataframe tbody tr th:only-of-type {\n",
       "        vertical-align: middle;\n",
       "    }\n",
       "\n",
       "    .dataframe tbody tr th {\n",
       "        vertical-align: top;\n",
       "    }\n",
       "\n",
       "    .dataframe thead th {\n",
       "        text-align: right;\n",
       "    }\n",
       "</style>\n",
       "<table border=\"1\" class=\"dataframe\">\n",
       "  <thead>\n",
       "    <tr style=\"text-align: right;\">\n",
       "      <th></th>\n",
       "      <th>peptide</th>\n",
       "      <th>pos</th>\n",
       "      <th>name</th>\n",
       "      <th>alleles</th>\n",
       "      <th>core</th>\n",
       "      <th>score</th>\n",
       "      <th>mean</th>\n",
       "      <th>median_rank</th>\n",
       "    </tr>\n",
       "  </thead>\n",
       "  <tbody>\n",
       "    <tr>\n",
       "      <th>215168</th>\n",
       "      <td>IRIYNTMCIEK</td>\n",
       "      <td>37</td>\n",
       "      <td>tr_A0A0H2WZD3_A0A0H2WZD3_STAAC</td>\n",
       "      <td>4</td>\n",
       "      <td>IRIYNTMCI</td>\n",
       "      <td>8.56</td>\n",
       "      <td>4.7375</td>\n",
       "      <td>1.0</td>\n",
       "    </tr>\n",
       "    <tr>\n",
       "      <th>33043</th>\n",
       "      <td>CVFRIYTNLSL</td>\n",
       "      <td>3</td>\n",
       "      <td>tr_A0A0H2WW19_A0A0H2WW19_STAAC</td>\n",
       "      <td>4</td>\n",
       "      <td>FRIYTNLSL</td>\n",
       "      <td>8.30</td>\n",
       "      <td>4.9700</td>\n",
       "      <td>1.0</td>\n",
       "    </tr>\n",
       "    <tr>\n",
       "      <th>326205</th>\n",
       "      <td>LRLFMLLTLIS</td>\n",
       "      <td>39</td>\n",
       "      <td>sp_Q2FZT3_Y907_STAA8</td>\n",
       "      <td>4</td>\n",
       "      <td>LRLFMLLTL</td>\n",
       "      <td>8.20</td>\n",
       "      <td>4.9450</td>\n",
       "      <td>1.0</td>\n",
       "    </tr>\n",
       "  </tbody>\n",
       "</table>\n",
       "</div>"
      ],
      "text/plain": [
       "            peptide  pos                            name  alleles       core   \n",
       "215168  IRIYNTMCIEK   37  tr_A0A0H2WZD3_A0A0H2WZD3_STAAC        4  IRIYNTMCI  \\\n",
       "33043   CVFRIYTNLSL    3  tr_A0A0H2WW19_A0A0H2WW19_STAAC        4  FRIYTNLSL   \n",
       "326205  LRLFMLLTLIS   39            sp_Q2FZT3_Y907_STAA8        4  LRLFMLLTL   \n",
       "\n",
       "        score    mean  median_rank  \n",
       "215168   8.56  4.7375          1.0  \n",
       "33043    8.30  4.9700          1.0  \n",
       "326205   8.20  4.9450          1.0  "
      ]
     },
     "execution_count": 16,
     "metadata": {},
     "output_type": "execute_result"
    }
   ],
   "source": [
    "pb.head(3)"
   ]
  },
  {
   "cell_type": "markdown",
   "id": "c5949b2c",
   "metadata": {},
   "source": [
    "find clusters of binders in these results"
   ]
  },
  {
   "cell_type": "code",
   "execution_count": 17,
   "id": "bcf9aa46",
   "metadata": {
    "tags": []
   },
   "outputs": [],
   "source": [
    "cl = analysis.find_clusters(pb, dist=9, min_size=3)"
   ]
  },
  {
   "cell_type": "code",
   "execution_count": 18,
   "id": "46d9b6da",
   "metadata": {
    "tags": []
   },
   "outputs": [
    {
     "data": {
      "text/html": [
       "<div>\n",
       "<style scoped>\n",
       "    .dataframe tbody tr th:only-of-type {\n",
       "        vertical-align: middle;\n",
       "    }\n",
       "\n",
       "    .dataframe tbody tr th {\n",
       "        vertical-align: top;\n",
       "    }\n",
       "\n",
       "    .dataframe thead th {\n",
       "        text-align: right;\n",
       "    }\n",
       "</style>\n",
       "<table border=\"1\" class=\"dataframe\">\n",
       "  <thead>\n",
       "    <tr style=\"text-align: right;\">\n",
       "      <th></th>\n",
       "      <th>name</th>\n",
       "      <th>start</th>\n",
       "      <th>end</th>\n",
       "      <th>binders</th>\n",
       "      <th>length</th>\n",
       "    </tr>\n",
       "  </thead>\n",
       "  <tbody>\n",
       "    <tr>\n",
       "      <th>5465</th>\n",
       "      <td>tr_A0A380DTS1_A0A380DTS1_STAAU</td>\n",
       "      <td>1</td>\n",
       "      <td>45</td>\n",
       "      <td>13</td>\n",
       "      <td>44</td>\n",
       "    </tr>\n",
       "    <tr>\n",
       "      <th>9186</th>\n",
       "      <td>tr_A0A7Z8E263_A0A7Z8E263_STACP</td>\n",
       "      <td>138</td>\n",
       "      <td>180</td>\n",
       "      <td>13</td>\n",
       "      <td>42</td>\n",
       "    </tr>\n",
       "    <tr>\n",
       "      <th>5506</th>\n",
       "      <td>tr_A0A380DUA4_A0A380DUA4_STAAU</td>\n",
       "      <td>0</td>\n",
       "      <td>49</td>\n",
       "      <td>12</td>\n",
       "      <td>49</td>\n",
       "    </tr>\n",
       "    <tr>\n",
       "      <th>2818</th>\n",
       "      <td>tr_A0A1F1C1P9_A0A1F1C1P9_9STAP</td>\n",
       "      <td>2</td>\n",
       "      <td>50</td>\n",
       "      <td>12</td>\n",
       "      <td>48</td>\n",
       "    </tr>\n",
       "    <tr>\n",
       "      <th>6113</th>\n",
       "      <td>tr_A0A380E9B4_A0A380E9B4_STAAU</td>\n",
       "      <td>13</td>\n",
       "      <td>61</td>\n",
       "      <td>12</td>\n",
       "      <td>48</td>\n",
       "    </tr>\n",
       "    <tr>\n",
       "      <th>...</th>\n",
       "      <td>...</td>\n",
       "      <td>...</td>\n",
       "      <td>...</td>\n",
       "      <td>...</td>\n",
       "      <td>...</td>\n",
       "    </tr>\n",
       "    <tr>\n",
       "      <th>13088</th>\n",
       "      <td>tr_Q93I83_Q93I83_STAAU</td>\n",
       "      <td>440</td>\n",
       "      <td>452</td>\n",
       "      <td>2</td>\n",
       "      <td>12</td>\n",
       "    </tr>\n",
       "    <tr>\n",
       "      <th>13089</th>\n",
       "      <td>tr_Q93IA9_Q93IA9_STAAU</td>\n",
       "      <td>8</td>\n",
       "      <td>20</td>\n",
       "      <td>2</td>\n",
       "      <td>12</td>\n",
       "    </tr>\n",
       "    <tr>\n",
       "      <th>13093</th>\n",
       "      <td>tr_Q9FDP4_Q9FDP4_STAAU</td>\n",
       "      <td>5</td>\n",
       "      <td>17</td>\n",
       "      <td>2</td>\n",
       "      <td>12</td>\n",
       "    </tr>\n",
       "    <tr>\n",
       "      <th>13097</th>\n",
       "      <td>tr_Q9FDP6_Q9FDP6_STAAU</td>\n",
       "      <td>315</td>\n",
       "      <td>327</td>\n",
       "      <td>2</td>\n",
       "      <td>12</td>\n",
       "    </tr>\n",
       "    <tr>\n",
       "      <th>13099</th>\n",
       "      <td>tr_U5NV87_U5NV87_STAAU</td>\n",
       "      <td>60</td>\n",
       "      <td>72</td>\n",
       "      <td>2</td>\n",
       "      <td>12</td>\n",
       "    </tr>\n",
       "  </tbody>\n",
       "</table>\n",
       "<p>13095 rows × 5 columns</p>\n",
       "</div>"
      ],
      "text/plain": [
       "                                 name  start  end  binders  length\n",
       "5465   tr_A0A380DTS1_A0A380DTS1_STAAU      1   45       13      44\n",
       "9186   tr_A0A7Z8E263_A0A7Z8E263_STACP    138  180       13      42\n",
       "5506   tr_A0A380DUA4_A0A380DUA4_STAAU      0   49       12      49\n",
       "2818   tr_A0A1F1C1P9_A0A1F1C1P9_9STAP      2   50       12      48\n",
       "6113   tr_A0A380E9B4_A0A380E9B4_STAAU     13   61       12      48\n",
       "...                               ...    ...  ...      ...     ...\n",
       "13088          tr_Q93I83_Q93I83_STAAU    440  452        2      12\n",
       "13089          tr_Q93IA9_Q93IA9_STAAU      8   20        2      12\n",
       "13093          tr_Q9FDP4_Q9FDP4_STAAU      5   17        2      12\n",
       "13097          tr_Q9FDP6_Q9FDP6_STAAU    315  327        2      12\n",
       "13099          tr_U5NV87_U5NV87_STAAU     60   72        2      12\n",
       "\n",
       "[13095 rows x 5 columns]"
      ]
     },
     "execution_count": 18,
     "metadata": {},
     "output_type": "execute_result"
    }
   ],
   "source": [
    "cl"
   ]
  },
  {
   "cell_type": "code",
   "execution_count": null,
   "id": "4f45170f-c510-4f96-859d-e2acecefc155",
   "metadata": {},
   "outputs": [],
   "source": []
  }
 ],
 "metadata": {
  "kernelspec": {
   "display_name": "Python 3 (ipykernel)",
   "language": "python",
   "name": "python3"
  },
  "language_info": {
   "codemirror_mode": {
    "name": "ipython",
    "version": 3
   },
   "file_extension": ".py",
   "mimetype": "text/x-python",
   "name": "python",
   "nbconvert_exporter": "python",
   "pygments_lexer": "ipython3",
   "version": "3.10.6"
  },
  "toc": {
   "base_numbering": 1,
   "nav_menu": {},
   "number_sections": true,
   "sideBar": true,
   "skip_h1_title": false,
   "title_cell": "Table of Contents",
   "title_sidebar": "Contents",
   "toc_cell": false,
   "toc_position": {},
   "toc_section_display": true,
   "toc_window_display": false
  }
 },
 "nbformat": 4,
 "nbformat_minor": 5
}
