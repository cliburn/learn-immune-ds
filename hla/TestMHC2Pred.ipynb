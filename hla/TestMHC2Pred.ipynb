{
 "cells": [
  {
   "cell_type": "markdown",
   "id": "8b92f3c5",
   "metadata": {},
   "source": [
    "Repository\n",
    "\n",
    "https://github.com/GfellerLab/MixMHC2pred"
   ]
  },
  {
   "cell_type": "code",
   "execution_count": 1,
   "id": "4974a39e",
   "metadata": {},
   "outputs": [],
   "source": [
    "BASEDIR = '/Users/ccc14/learning/learn-immune-ds/hla/MixMHC2pred-2.0.2'"
   ]
  },
  {
   "cell_type": "code",
   "execution_count": 2,
   "id": "9dc76c9c",
   "metadata": {},
   "outputs": [
    {
     "name": "stdout",
     "output_type": "stream",
     "text": [
      "Runing MixMHC2pred (v2.0.2) for peptide file: test/testData.txt\n",
      "Imported 500 peptides. Computing now the PWM-based scores from each peptide.\n",
      "Computing now the full scores from each peptide.\n",
      "Saving the results in the output file.\n",
      "Finished the computations.\n"
     ]
    }
   ],
   "source": [
    "%%bash -s {BASEDIR}\n",
    "\n",
    "cd $1\n",
    "./MixMHC2pred \\\n",
    "-i test/testData.txt \\\n",
    "-o test/out.txt \\\n",
    "-f PWMdef_Human \\\n",
    "-a DRB1_15_01 DRB5_01_01 DPA1_02_01__DPB1_01_01 DQA1_01_02__DQB1_05_01 DQA1_01_02__DQB1_06_02"
   ]
  },
  {
   "cell_type": "code",
   "execution_count": 3,
   "id": "58be4824",
   "metadata": {},
   "outputs": [
    {
     "name": "stdout",
     "output_type": "stream",
     "text": [
      "####################\n",
      "# Output from MixMHC2pred (v2.0.2)\n",
      "# Input file: test/testData.txt\n",
      "# Alleles: DRB1_15_01, DRB5_01_01, DPA1_02_01__DPB1_01_01, DQA1_01_02__DQB1_05_01, DQA1_01_02__DQB1_06_02\n",
      "# Alleles folder: 'PWMdef_Human/'\n",
      "# Context type: full\n",
      "#\n",
      "# MixMHC2pred is freely available for academic users.\n",
      "# Private companies should contact nbulgin@lcr.org at the Ludwig Institute\n",
      "#  for Cancer Research Ltd for commercial licenses.\n",
      "#\n",
      "# To cite MixMHC2pred, please refer to:\n",
      "# Racle, J., et al., Machine learning predictions of MHC-II specificities\n",
      "#  reveal alternative binding mode of class II epitopes. bioRxiv (2022).\n",
      "# and\n",
      "# Racle, J., et al. Robust prediction of HLA class II epitopes by deep motif\n",
      "#  deconvolution of immunopeptidomes. Nat. Biotechnol. 37, 1283-1286 (2019).\n",
      "#\n",
      "####################\n",
      "Peptide\tContext\tBestAllele\t%Rank_best\tCore_best\tCoreP1_best\tSubSpec_best\t%Rank_DRB1_15_01\tCoreP1_DRB1_15_01\tSubSpec_DRB1_15_01\t%Rank_DRB5_01_01\tCoreP1_DRB5_01_01\tSubSpec_DRB5_01_01\t%Rank_DPA1_02_01__DPB1_01_01\tCoreP1_DPA1_02_01__DPB1_01_01\tSubSpec_DPA1_02_01__DPB1_01_01\t%Rank_DQA1_01_02__DQB1_05_01\tCoreP1_DQA1_01_02__DQB1_05_01\tSubSpec_DQA1_01_02__DQB1_05_01\t%Rank_DQA1_01_02__DQB1_06_02\tCoreP1_DQA1_01_02__DQB1_06_02\tSubSpec_DQA1_01_02__DQB1_06_02\n",
      "KELEIKEMMARHKQ\tKIMKELHKQELT\tDRB5_01_01\t0.105\tIKEMMARHK\t5\t1\t19.8\t5\t1\t0.105\t5\t1\t14.6\t4\t1\t35.2\t5\t1\t28.9\t5\t1\n",
      "EEFKKYEMMKEHERREYL\tTRHEEFEYLKTL\tDRB5_01_01\t0.22\tYEMMKEHER\t6\t1\t82.4\t3\t1\t0.22\t6\t1\t32.6\t4\t1\t83.2\t6\t1\t87\t6\t1\n",
      "LPIYEELKDRSRR\tPAVLPISRRRMM\tDRB5_01_01\t0.133\tYEELKDRSR\t4\t1\t22\t4\t1\t0.133\t4\t1\t28.6\t4\t-1\t20.7\t4\t1\t29.3\t4\t1\n",
      "KWYVPLSDKEKKK\tRLQKWYKKKITR\tDRB5_01_01\t0.16\tYVPLSDKEK\t3\t1\t30.3\t2\t1\t0.16\t3\t1\t8.04\t3\t-1\t23.8\t3\t1\t42.3\t3\t1\n",
      "NRSGDHRGKFKVASFRKKYE\tILSNRSKYELRA\tDRB5_01_01\t40.4\tFKVASFRKK\t10\t1\t84.1\t12\t1\t40.4\t10\t1\t81.1\t7\t1\t79.3\t7\t1\t79.6\t5\t1\n",
      "IKTEKKTVQFSDDVQVE\tPEMIKTQVETIE\tDPA1_02_01__DPB1_01_01\t0.00968\tKKTVQFSDD\t5\t1\t47.7\t8\t1\t63.8\t8\t1\t0.00968\t5\t1\t0.154\t7\t1\t63\t8\t1\n",
      "EKEKESIARARAGSRLSAE\tRVSEKESAEERQ\tDRB5_01_01\t1.24\tIARARAGSR\t7\t1\t74\t7\t1\t1.24\t7\t1\t69\t11\t1\t81.1\t8\t1\t26.8\t5\t1\n",
      "VLPIYEELKDRSRRR\tHPAVLPRRRMMN\tDRB5_01_01\t0.233\tYEELKDRSR\t5\t1\t39.4\t5\t1\t0.233\t5\t1\t60\t5\t-1\t37.3\t5\t1\t46.6\t5\t1\n",
      "IPSDGKGMISIIAAVQKQ\tEVGIPSQKQQQQ\tDRB5_01_01\t0.308\tISIIAAVQK\t9\t1\t7.38\t5\t1\t0.308\t9\t1\t1.58\t6\t1\t6.3\t5\t1\t5.72\t5\t1\n",
      "LGAFTGLHGRRRREYW\tVYVLGAEYWQVC\tDRB5_01_01\t4.89\tFTGLHGRRR\t4\t1\t63.7\t4\t1\t4.89\t4\t1\t89.1\t4\t-1\t85.4\t4\t1\t82.7\t4\t1\n"
     ]
    }
   ],
   "source": [
    "%%bash -s {BASEDIR}\n",
    "\n",
    "cd $1\n",
    "head -n 30 test/out.txt"
   ]
  },
  {
   "cell_type": "code",
   "execution_count": null,
   "id": "97a63ae7",
   "metadata": {},
   "outputs": [],
   "source": []
  }
 ],
 "metadata": {
  "kernelspec": {
   "display_name": "Python 3 (ipykernel)",
   "language": "python",
   "name": "python3"
  },
  "language_info": {
   "codemirror_mode": {
    "name": "ipython",
    "version": 3
   },
   "file_extension": ".py",
   "mimetype": "text/x-python",
   "name": "python",
   "nbconvert_exporter": "python",
   "pygments_lexer": "ipython3",
   "version": "3.10.6"
  },
  "toc": {
   "base_numbering": 1,
   "nav_menu": {},
   "number_sections": true,
   "sideBar": true,
   "skip_h1_title": false,
   "title_cell": "Table of Contents",
   "title_sidebar": "Contents",
   "toc_cell": false,
   "toc_position": {},
   "toc_section_display": true,
   "toc_window_display": false
  }
 },
 "nbformat": 4,
 "nbformat_minor": 5
}
