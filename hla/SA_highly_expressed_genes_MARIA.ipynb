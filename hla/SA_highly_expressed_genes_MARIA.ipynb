{
 "cells": [
  {
   "cell_type": "code",
   "execution_count": 1,
   "metadata": {},
   "outputs": [],
   "source": [
    "import glob\n",
    "import os\n",
    "import pandas as pd"
   ]
  },
  {
   "cell_type": "code",
   "execution_count": 2,
   "metadata": {},
   "outputs": [],
   "source": [
    "from Bio import SeqIO"
   ]
  },
  {
   "cell_type": "markdown",
   "metadata": {},
   "source": [
    "### Prepare inputs for MARIA\n",
    "\n",
    "The input file is a plain tap-delaminated text file with a header and 5 required columns. Column 1 and 2 are HLA-DR or DQ alleles of the cells (see Supported Alleles for details). Column 3 is the gene symbol (e.g. CTSK) of genes encoding the peptide of interest. Column 4 is peptide sequences in single letter format (all capitalized, no space). Column 5 is optional gene expression values if users want to provide specific gene expression values for this antigen gene (in TPM). Otherwise gene expression values will be estimated from external RNA-Seq references (e.g. TCGA) and genes with unknown gene expression will be assigned with a TPM of 5.\n"
   ]
  },
  {
   "cell_type": "code",
   "execution_count": 3,
   "metadata": {},
   "outputs": [
    {
     "name": "stdout",
     "output_type": "stream",
     "text": [
      "Allele 1\tAllele 2\tGenes\tSequences\tTPM\tNotes\r",
      "\r\n",
      "HLA-DRB1*01:01\tHLA-DRB1*01:01\thCG_40889\tHGRKFVQGKSIDVACHPG\t\tHLA-DRB1*01:01 ligands\r",
      "\r\n",
      "HLA-DRB1*01:01\tHLA-DRB1*01:01\thCG_40889\tEPDREYHFGQAVRFV\t\tHLA-DRB1*01:01 ligands\r",
      "\r\n",
      "HLA-DRB1*01:01\tHLA-DRB1*01:01\tB4DJQ5\tKKLIELQAGKKSLED\t\tHLA-DRB1*01:01 ligands\r",
      "\r\n",
      "HLA-DRB1*01:01\tHLA-DRB1*01:01\tCOX8\tIHSLPPEGKLGIMELAVGLTS\t\tHLA-DRB1*01:01 ligands\r",
      "\r\n"
     ]
    }
   ],
   "source": [
    "! head -5 MARIA/Example1_K562_ligands.txt"
   ]
  },
  {
   "cell_type": "code",
   "execution_count": 4,
   "metadata": {},
   "outputs": [],
   "source": [
    "pid = 'sa_highly_expressed_genes'"
   ]
  },
  {
   "cell_type": "code",
   "execution_count": 5,
   "metadata": {},
   "outputs": [
    {
     "data": {
      "text/plain": [
       "['HLA-DRB1*04:01', 'HLA-DRB1*04:02', 'HLA-DRB1*15:01', 'HLA-DRB1*12:01']"
      ]
     },
     "execution_count": 5,
     "metadata": {},
     "output_type": "execute_result"
    }
   ],
   "source": [
    "alleles = 'HLA-DRB1*04:01 HLA-DRB1*04:02 HLA-DRB1*15:01 HLA-DRB1*12:01'.split()\n",
    "alleles"
   ]
  },
  {
   "cell_type": "code",
   "execution_count": 6,
   "metadata": {},
   "outputs": [],
   "source": [
    "fasta_sequences = SeqIO.parse(open(f'{pid}.fasta'),'fasta')\n",
    "w = 15\n",
    "rows = []\n",
    "for allele in alleles:\n",
    "    for fasta in fasta_sequences:\n",
    "        name, sequence = fasta.id, str(fasta.seq)\n",
    "        name = name.split('|')[-1]\n",
    "        for i in range(len(sequence) - (w-1)):\n",
    "            rows.append([allele, allele, name, sequence[i:i+w], None])\n",
    "df = pd.DataFrame(rows, columns = 'Allele 1\tAllele 2\tGenes\tSequences\tTPM'.split('\\t'))"
   ]
  },
  {
   "cell_type": "code",
   "execution_count": 7,
   "metadata": {},
   "outputs": [
    {
     "data": {
      "text/html": [
       "<div>\n",
       "<style scoped>\n",
       "    .dataframe tbody tr th:only-of-type {\n",
       "        vertical-align: middle;\n",
       "    }\n",
       "\n",
       "    .dataframe tbody tr th {\n",
       "        vertical-align: top;\n",
       "    }\n",
       "\n",
       "    .dataframe thead th {\n",
       "        text-align: right;\n",
       "    }\n",
       "</style>\n",
       "<table border=\"1\" class=\"dataframe\">\n",
       "  <thead>\n",
       "    <tr style=\"text-align: right;\">\n",
       "      <th></th>\n",
       "      <th>Allele 1</th>\n",
       "      <th>Allele 2</th>\n",
       "      <th>Genes</th>\n",
       "      <th>Sequences</th>\n",
       "      <th>TPM</th>\n",
       "    </tr>\n",
       "  </thead>\n",
       "  <tbody>\n",
       "    <tr>\n",
       "      <th>0</th>\n",
       "      <td>HLA-DRB1*04:01</td>\n",
       "      <td>HLA-DRB1*04:01</td>\n",
       "      <td>GUAC_STAA3</td>\n",
       "      <td>MKIFDYEDIQLIPNK</td>\n",
       "      <td>None</td>\n",
       "    </tr>\n",
       "    <tr>\n",
       "      <th>1</th>\n",
       "      <td>HLA-DRB1*04:01</td>\n",
       "      <td>HLA-DRB1*04:01</td>\n",
       "      <td>GUAC_STAA3</td>\n",
       "      <td>KIFDYEDIQLIPNKC</td>\n",
       "      <td>None</td>\n",
       "    </tr>\n",
       "    <tr>\n",
       "      <th>2</th>\n",
       "      <td>HLA-DRB1*04:01</td>\n",
       "      <td>HLA-DRB1*04:01</td>\n",
       "      <td>GUAC_STAA3</td>\n",
       "      <td>IFDYEDIQLIPNKCI</td>\n",
       "      <td>None</td>\n",
       "    </tr>\n",
       "  </tbody>\n",
       "</table>\n",
       "</div>"
      ],
      "text/plain": [
       "         Allele 1        Allele 2       Genes        Sequences   TPM\n",
       "0  HLA-DRB1*04:01  HLA-DRB1*04:01  GUAC_STAA3  MKIFDYEDIQLIPNK  None\n",
       "1  HLA-DRB1*04:01  HLA-DRB1*04:01  GUAC_STAA3  KIFDYEDIQLIPNKC  None\n",
       "2  HLA-DRB1*04:01  HLA-DRB1*04:01  GUAC_STAA3  IFDYEDIQLIPNKCI  None"
      ]
     },
     "execution_count": 7,
     "metadata": {},
     "output_type": "execute_result"
    }
   ],
   "source": [
    "df.head(3)"
   ]
  },
  {
   "cell_type": "code",
   "execution_count": 8,
   "metadata": {},
   "outputs": [],
   "source": [
    "df.to_csv(f'data/maria_input.txt', sep='\\t', index=False)"
   ]
  },
  {
   "cell_type": "markdown",
   "metadata": {},
   "source": [
    "### Run in shell with environment `conda activate maria`\n",
    "\n",
    "```bash\n",
    "(maria) ccc14@BSTAT-FT236YNJ hla % python2.7 MARIA/maria.py data/maria_input.txt -cut_off 90\n",
    "Using Theano backend.\n",
    "Ddeveloped with keras version 2.0.3, and current keras version:  2.0.3\n",
    "Loading data from /Users/ccc14/learning/learn-immune-ds/hla/MARIA/supporting_file/\n",
    "Each DR allele presented by a 19-AA long pseudosequence\n",
    "The maximum length allowed for MARIA MHC-DR is 25\n",
    "Running recurrent neural network for HLA-DR ligand prediction\n",
    "MARIA run was successful\n",
    "The output was saved to data/maria_input.txt.output.txt\n",
    "```"
   ]
  },
  {
   "cell_type": "code",
   "execution_count": 9,
   "metadata": {},
   "outputs": [
    {
     "name": "stdout",
     "output_type": "stream",
     "text": [
      "Allele 1\tAllele 2\tGenes\tSequences\tTPM\tTPM estimated\tMARIA raw scores\tMARIA percentile scores\t15mer core\tPositive presenters\r\n",
      "HLA-DRB1*04:01\tHLA-DRB1*04:01\tGUAC_STAA3\tMKIFDYEDIQLIPNK\t\t5\t0.1312\t63.716\tMKIFDYEDIQLIPNK\t0\r\n",
      "HLA-DRB1*04:01\tHLA-DRB1*04:01\tGUAC_STAA3\tKIFDYEDIQLIPNKC\t\t5\t0.0825\t51.131\tKIFDYEDIQLIPNKC\t0\r\n",
      "HLA-DRB1*04:01\tHLA-DRB1*04:01\tGUAC_STAA3\tIFDYEDIQLIPNKCI\t\t5\t0.0347\t14.928\tIFDYEDIQLIPNKCI\t0\r\n",
      "HLA-DRB1*04:01\tHLA-DRB1*04:01\tGUAC_STAA3\tFDYEDIQLIPNKCIV\t\t5\t0.0501\t29.225\tFDYEDIQLIPNKCIV\t0\r\n",
      "HLA-DRB1*04:01\tHLA-DRB1*04:01\tGUAC_STAA3\tDYEDIQLIPNKCIVE\t\t5\t0.4124\t81.007\tDYEDIQLIPNKCIVE\t0\r\n",
      "HLA-DRB1*04:01\tHLA-DRB1*04:01\tGUAC_STAA3\tYEDIQLIPNKCIVES\t\t5\t0.1337\t64.197\tYEDIQLIPNKCIVES\t0\r\n",
      "HLA-DRB1*04:01\tHLA-DRB1*04:01\tGUAC_STAA3\tEDIQLIPNKCIVESR\t\t5\t0.1356\t64.477\tEDIQLIPNKCIVESR\t0\r\n",
      "HLA-DRB1*04:01\tHLA-DRB1*04:01\tGUAC_STAA3\tDIQLIPNKCIVESRS\t\t5\t0.0748\t47.597\tDIQLIPNKCIVESRS\t0\r\n",
      "HLA-DRB1*04:01\tHLA-DRB1*04:01\tGUAC_STAA3\tIQLIPNKCIVESRSE\t\t5\t0.0615\t39.117\tIQLIPNKCIVESRSE\t0\r\n"
     ]
    }
   ],
   "source": [
    "! head -10 data/maria_input.txt.output.txt"
   ]
  },
  {
   "cell_type": "code",
   "execution_count": null,
   "metadata": {},
   "outputs": [],
   "source": []
  }
 ],
 "metadata": {
  "kernelspec": {
   "display_name": "Python 3 (ipykernel)",
   "language": "python",
   "name": "python3"
  },
  "language_info": {
   "codemirror_mode": {
    "name": "ipython",
    "version": 3
   },
   "file_extension": ".py",
   "mimetype": "text/x-python",
   "name": "python",
   "nbconvert_exporter": "python",
   "pygments_lexer": "ipython3",
   "version": "3.10.6"
  },
  "toc": {
   "base_numbering": 1,
   "nav_menu": {},
   "number_sections": true,
   "sideBar": true,
   "skip_h1_title": false,
   "title_cell": "Table of Contents",
   "title_sidebar": "Contents",
   "toc_cell": false,
   "toc_position": {},
   "toc_section_display": true,
   "toc_window_display": false
  }
 },
 "nbformat": 4,
 "nbformat_minor": 2
}
