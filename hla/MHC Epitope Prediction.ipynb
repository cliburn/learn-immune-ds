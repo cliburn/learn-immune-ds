{
 "cells": [
  {
   "cell_type": "markdown",
   "id": "30a2bb76",
   "metadata": {},
   "source": [
    "# MHC Epitope Prediction\n",
    "\n",
    "Reference:\n",
    "\n",
    "- [`epitopepredict`](https://epitopepredict.readthedocs.io/en/latest/description.html#prediction-algorithms)\n",
    "  - [Python API](https://epitopepredict.readthedocs.io/en/latest/examples.html)"
   ]
  },
  {
   "cell_type": "code",
   "execution_count": 1,
   "id": "7ae79a3b",
   "metadata": {},
   "outputs": [],
   "source": [
    "import os\n",
    "import warnings"
   ]
  },
  {
   "cell_type": "code",
   "execution_count": 2,
   "id": "10e60bd9",
   "metadata": {},
   "outputs": [],
   "source": [
    "warnings.simplefilter('ignore', FutureWarning)"
   ]
  },
  {
   "cell_type": "code",
   "execution_count": 3,
   "id": "38953432",
   "metadata": {},
   "outputs": [],
   "source": [
    "import epitopepredict as ep\n",
    "from epitopepredict import base, sequtils, analysis, plotting"
   ]
  },
  {
   "cell_type": "markdown",
   "id": "a5060057",
   "metadata": {},
   "source": [
    "# Get list of predictors\n",
    "\n",
    "| name\t| description |\n",
    "|:- | :- |\n",
    "| basicmhc1\t| built-in MHC-class I predictor |\n",
    "| tepitope | implements the TEPITOPEPan method, built in (MHC-II)|\n",
    "| netMHCpan | http://www.cbs.dtu.dk/services/NetMHCpan/ (MHC-I) |\n",
    "| netMHCIIpan | http://www.cbs.dtu.dk/services/NetMHCIIpan/ (MHC-II) |\n",
    "| mhcflurry | https://github.com/openvax/mhcflurry (MHC-I) |\n",
    "| IEDB MHC-I tools | http://tools.immuneepitope.org/mhci/download/ |\n",
    "\n",
    "Only `tepitope`, `netmhciipan`, `netmhcpan`, `mhcflurry` are installed locally.\n"
   ]
  },
  {
   "cell_type": "code",
   "execution_count": 4,
   "id": "f614f38d",
   "metadata": {},
   "outputs": [
    {
     "name": "stdout",
     "output_type": "stream",
     "text": [
      "['basicmhc1', 'tepitope', 'netmhciipan', 'netmhcpan', 'mhcflurry', 'iedbmhc1', 'iedbmhc2']\n"
     ]
    }
   ],
   "source": [
    "print(base.predictors)"
   ]
  },
  {
   "cell_type": "markdown",
   "id": "3c55d562",
   "metadata": {},
   "source": [
    "## S. aureus analysis\n",
    "\n",
    "Proteomes · Staphylococcus aureus (strain NCTC 8325 / PS 47)\n",
    "\n",
    "https://www.uniprot.org/proteomes/UP000008816"
   ]
  },
  {
   "cell_type": "code",
   "execution_count": 5,
   "id": "5215ccd9",
   "metadata": {},
   "outputs": [],
   "source": [
    "pid = 'UP000008816_93061'"
   ]
  },
  {
   "cell_type": "code",
   "execution_count": 6,
   "id": "19b12e9d",
   "metadata": {},
   "outputs": [],
   "source": [
    "df = sequtils.fasta_to_dataframe(f'{pid}.fasta')"
   ]
  },
  {
   "cell_type": "markdown",
   "id": "f7008efc",
   "metadata": {},
   "source": [
    "run predictions for a protein sequence:"
   ]
  },
  {
   "cell_type": "code",
   "execution_count": 7,
   "id": "6e253eaf",
   "metadata": {},
   "outputs": [],
   "source": [
    "alleles = [\"HLA-DRB1*01:01\", \"HLA-DRB1*03:05\"]"
   ]
  },
  {
   "cell_type": "code",
   "execution_count": 8,
   "id": "08a086eb",
   "metadata": {},
   "outputs": [
    {
     "name": "stdout",
     "output_type": "stream",
     "text": [
      "took 10.1 seconds\n",
      "predictions done for 2889 sequences in 2 alleles\n",
      "results saved to /Users/ccc14/learning/learn-immune-ds/hla/UP000008816_93061.tepitope\n",
      "predictions done for 2889 sequences in 2 alleles\n",
      "results saved to /Users/ccc14/learning/learn-immune-ds/hla/UP000008816_93061.netmhciipan\n",
      "CPU times: user 50.2 ms, sys: 56.2 ms, total: 106 ms\n",
      "Wall time: 20.1 s\n"
     ]
    }
   ],
   "source": [
    "%%time\n",
    "\n",
    "np = 8\n",
    "for predictor in ['tepitope', 'netmhciipan']:\n",
    "    p = base.get_predictor()\n",
    "    p.predict_proteins(df, \n",
    "                       length=11, \n",
    "                       alleles=alleles,\n",
    "                       save=True, \n",
    "                       path=f'{pid}.{predictor}',\n",
    "                       threads=np)"
   ]
  },
  {
   "cell_type": "markdown",
   "id": "b17210a5",
   "metadata": {},
   "source": [
    "### Load and analyze"
   ]
  },
  {
   "cell_type": "code",
   "execution_count": 9,
   "id": "0274d5c1",
   "metadata": {},
   "outputs": [],
   "source": [
    "predictor = 'netmhciipan'\n",
    "path = f'{pid}.{predictor}'\n",
    "p.load(path=path)"
   ]
  },
  {
   "cell_type": "markdown",
   "id": "1f67c552",
   "metadata": {},
   "source": [
    "get all the binders using the current data loaded into the predictor"
   ]
  },
  {
   "cell_type": "code",
   "execution_count": 10,
   "id": "bbc3b8dd",
   "metadata": {},
   "outputs": [],
   "source": [
    "#default is to use percentile cutoff per allele, returns a dataframe\n",
    "binders = p.get_binders(cutoff=.95)"
   ]
  },
  {
   "cell_type": "code",
   "execution_count": 11,
   "id": "a4360093",
   "metadata": {},
   "outputs": [
    {
     "data": {
      "text/plain": [
       "(106176, 7)"
      ]
     },
     "execution_count": 11,
     "metadata": {},
     "output_type": "execute_result"
    }
   ],
   "source": [
    "binders.shape"
   ]
  },
  {
   "cell_type": "code",
   "execution_count": 12,
   "id": "868efc47",
   "metadata": {},
   "outputs": [
    {
     "data": {
      "text/html": [
       "<div>\n",
       "<style scoped>\n",
       "    .dataframe tbody tr th:only-of-type {\n",
       "        vertical-align: middle;\n",
       "    }\n",
       "\n",
       "    .dataframe tbody tr th {\n",
       "        vertical-align: top;\n",
       "    }\n",
       "\n",
       "    .dataframe thead th {\n",
       "        text-align: right;\n",
       "    }\n",
       "</style>\n",
       "<table border=\"1\" class=\"dataframe\">\n",
       "  <thead>\n",
       "    <tr style=\"text-align: right;\">\n",
       "      <th></th>\n",
       "      <th>allele</th>\n",
       "      <th>core</th>\n",
       "      <th>name</th>\n",
       "      <th>peptide</th>\n",
       "      <th>pos</th>\n",
       "      <th>rank</th>\n",
       "      <th>score</th>\n",
       "    </tr>\n",
       "  </thead>\n",
       "  <tbody>\n",
       "    <tr>\n",
       "      <th>41</th>\n",
       "      <td>HLA-DRB1*0101</td>\n",
       "      <td>CRFSRPIPS</td>\n",
       "      <td>tr_Q2FX82_Q2FX82_STAA8</td>\n",
       "      <td>SPCRFSRPIPS</td>\n",
       "      <td>41</td>\n",
       "      <td>1.0</td>\n",
       "      <td>2.4</td>\n",
       "    </tr>\n",
       "    <tr>\n",
       "      <th>42</th>\n",
       "      <td>HLA-DRB1*0101</td>\n",
       "      <td>CRFSRPIPS</td>\n",
       "      <td>tr_Q2FX82_Q2FX82_STAA8</td>\n",
       "      <td>PCRFSRPIPSA</td>\n",
       "      <td>42</td>\n",
       "      <td>1.0</td>\n",
       "      <td>2.4</td>\n",
       "    </tr>\n",
       "    <tr>\n",
       "      <th>43</th>\n",
       "      <td>HLA-DRB1*0101</td>\n",
       "      <td>CRFSRPIPS</td>\n",
       "      <td>tr_Q2FX82_Q2FX82_STAA8</td>\n",
       "      <td>CRFSRPIPSAG</td>\n",
       "      <td>43</td>\n",
       "      <td>1.0</td>\n",
       "      <td>2.4</td>\n",
       "    </tr>\n",
       "  </tbody>\n",
       "</table>\n",
       "</div>"
      ],
      "text/plain": [
       "           allele       core                    name      peptide  pos  rank  \\\n",
       "41  HLA-DRB1*0101  CRFSRPIPS  tr_Q2FX82_Q2FX82_STAA8  SPCRFSRPIPS   41   1.0   \n",
       "42  HLA-DRB1*0101  CRFSRPIPS  tr_Q2FX82_Q2FX82_STAA8  PCRFSRPIPSA   42   1.0   \n",
       "43  HLA-DRB1*0101  CRFSRPIPS  tr_Q2FX82_Q2FX82_STAA8  CRFSRPIPSAG   43   1.0   \n",
       "\n",
       "    score  \n",
       "41    2.4  \n",
       "42    2.4  \n",
       "43    2.4  "
      ]
     },
     "execution_count": 12,
     "metadata": {},
     "output_type": "execute_result"
    }
   ],
   "source": [
    "binders.head(3)"
   ]
  },
  {
   "cell_type": "markdown",
   "id": "898ac574",
   "metadata": {},
   "source": [
    "get binders for only one protein by top median rank"
   ]
  },
  {
   "cell_type": "code",
   "execution_count": 13,
   "id": "e780de89",
   "metadata": {},
   "outputs": [
    {
     "data": {
      "text/plain": [
       "'sp_O34090_HEM3_STAA8'"
      ]
     },
     "execution_count": 13,
     "metadata": {},
     "output_type": "execute_result"
    }
   ],
   "source": [
    "name = df.iloc[0,0]\n",
    "name"
   ]
  },
  {
   "cell_type": "code",
   "execution_count": 14,
   "id": "a802df44",
   "metadata": {},
   "outputs": [
    {
     "data": {
      "text/html": [
       "<div>\n",
       "<style scoped>\n",
       "    .dataframe tbody tr th:only-of-type {\n",
       "        vertical-align: middle;\n",
       "    }\n",
       "\n",
       "    .dataframe tbody tr th {\n",
       "        vertical-align: top;\n",
       "    }\n",
       "\n",
       "    .dataframe thead th {\n",
       "        text-align: right;\n",
       "    }\n",
       "</style>\n",
       "<table border=\"1\" class=\"dataframe\">\n",
       "  <thead>\n",
       "    <tr style=\"text-align: right;\">\n",
       "      <th></th>\n",
       "      <th>allele</th>\n",
       "      <th>core</th>\n",
       "      <th>name</th>\n",
       "      <th>peptide</th>\n",
       "      <th>pos</th>\n",
       "      <th>rank</th>\n",
       "      <th>score</th>\n",
       "    </tr>\n",
       "  </thead>\n",
       "  <tbody>\n",
       "    <tr>\n",
       "      <th>223</th>\n",
       "      <td>HLA-DRB1*0101</td>\n",
       "      <td>CVTAERTFL</td>\n",
       "      <td>sp_O34090_HEM3_STAA8</td>\n",
       "      <td>AKCVTAERTFL</td>\n",
       "      <td>223</td>\n",
       "      <td>1.0</td>\n",
       "      <td>0.89000</td>\n",
       "    </tr>\n",
       "    <tr>\n",
       "      <th>224</th>\n",
       "      <td>HLA-DRB1*0101</td>\n",
       "      <td>CVTAERTFL</td>\n",
       "      <td>sp_O34090_HEM3_STAA8</td>\n",
       "      <td>KCVTAERTFLA</td>\n",
       "      <td>224</td>\n",
       "      <td>1.0</td>\n",
       "      <td>0.89000</td>\n",
       "    </tr>\n",
       "    <tr>\n",
       "      <th>225</th>\n",
       "      <td>HLA-DRB1*0101</td>\n",
       "      <td>CVTAERTFL</td>\n",
       "      <td>sp_O34090_HEM3_STAA8</td>\n",
       "      <td>CVTAERTFLAE</td>\n",
       "      <td>225</td>\n",
       "      <td>1.0</td>\n",
       "      <td>0.89000</td>\n",
       "    </tr>\n",
       "    <tr>\n",
       "      <th>215</th>\n",
       "      <td>HLA-DRB1*0305</td>\n",
       "      <td>VHNDEVAKC</td>\n",
       "      <td>sp_O34090_HEM3_STAA8</td>\n",
       "      <td>SKVHNDEVAKC</td>\n",
       "      <td>215</td>\n",
       "      <td>1.0</td>\n",
       "      <td>3.76600</td>\n",
       "    </tr>\n",
       "    <tr>\n",
       "      <th>216</th>\n",
       "      <td>HLA-DRB1*0305</td>\n",
       "      <td>VHNDEVAKC</td>\n",
       "      <td>sp_O34090_HEM3_STAA8</td>\n",
       "      <td>KVHNDEVAKCV</td>\n",
       "      <td>216</td>\n",
       "      <td>1.0</td>\n",
       "      <td>3.76600</td>\n",
       "    </tr>\n",
       "    <tr>\n",
       "      <th>217</th>\n",
       "      <td>HLA-DRB1*0305</td>\n",
       "      <td>VHNDEVAKC</td>\n",
       "      <td>sp_O34090_HEM3_STAA8</td>\n",
       "      <td>VHNDEVAKCVT</td>\n",
       "      <td>217</td>\n",
       "      <td>1.0</td>\n",
       "      <td>3.76600</td>\n",
       "    </tr>\n",
       "    <tr>\n",
       "      <th>57</th>\n",
       "      <td>HLA-DRB1*0101</td>\n",
       "      <td>FVKEIQHEL</td>\n",
       "      <td>sp_O34090_HEM3_STAA8</td>\n",
       "      <td>GLFVKEIQHEL</td>\n",
       "      <td>57</td>\n",
       "      <td>4.0</td>\n",
       "      <td>0.50000</td>\n",
       "    </tr>\n",
       "    <tr>\n",
       "      <th>58</th>\n",
       "      <td>HLA-DRB1*0101</td>\n",
       "      <td>FVKEIQHEL</td>\n",
       "      <td>sp_O34090_HEM3_STAA8</td>\n",
       "      <td>LFVKEIQHELF</td>\n",
       "      <td>58</td>\n",
       "      <td>4.0</td>\n",
       "      <td>0.50000</td>\n",
       "    </tr>\n",
       "    <tr>\n",
       "      <th>59</th>\n",
       "      <td>HLA-DRB1*0101</td>\n",
       "      <td>FVKEIQHEL</td>\n",
       "      <td>sp_O34090_HEM3_STAA8</td>\n",
       "      <td>FVKEIQHELFE</td>\n",
       "      <td>59</td>\n",
       "      <td>4.0</td>\n",
       "      <td>0.50000</td>\n",
       "    </tr>\n",
       "    <tr>\n",
       "      <th>125</th>\n",
       "      <td>HLA-DRB1*0305</td>\n",
       "      <td>LRRGAQILS</td>\n",
       "      <td>sp_O34090_HEM3_STAA8</td>\n",
       "      <td>SSLRRGAQILS</td>\n",
       "      <td>125</td>\n",
       "      <td>4.0</td>\n",
       "      <td>3.43064</td>\n",
       "    </tr>\n",
       "    <tr>\n",
       "      <th>126</th>\n",
       "      <td>HLA-DRB1*0305</td>\n",
       "      <td>LRRGAQILS</td>\n",
       "      <td>sp_O34090_HEM3_STAA8</td>\n",
       "      <td>SLRRGAQILSK</td>\n",
       "      <td>126</td>\n",
       "      <td>4.0</td>\n",
       "      <td>3.43064</td>\n",
       "    </tr>\n",
       "    <tr>\n",
       "      <th>127</th>\n",
       "      <td>HLA-DRB1*0305</td>\n",
       "      <td>LRRGAQILS</td>\n",
       "      <td>sp_O34090_HEM3_STAA8</td>\n",
       "      <td>LRRGAQILSKY</td>\n",
       "      <td>127</td>\n",
       "      <td>4.0</td>\n",
       "      <td>3.43064</td>\n",
       "    </tr>\n",
       "  </tbody>\n",
       "</table>\n",
       "</div>"
      ],
      "text/plain": [
       "            allele       core                  name      peptide  pos  rank  \\\n",
       "223  HLA-DRB1*0101  CVTAERTFL  sp_O34090_HEM3_STAA8  AKCVTAERTFL  223   1.0   \n",
       "224  HLA-DRB1*0101  CVTAERTFL  sp_O34090_HEM3_STAA8  KCVTAERTFLA  224   1.0   \n",
       "225  HLA-DRB1*0101  CVTAERTFL  sp_O34090_HEM3_STAA8  CVTAERTFLAE  225   1.0   \n",
       "215  HLA-DRB1*0305  VHNDEVAKC  sp_O34090_HEM3_STAA8  SKVHNDEVAKC  215   1.0   \n",
       "216  HLA-DRB1*0305  VHNDEVAKC  sp_O34090_HEM3_STAA8  KVHNDEVAKCV  216   1.0   \n",
       "217  HLA-DRB1*0305  VHNDEVAKC  sp_O34090_HEM3_STAA8  VHNDEVAKCVT  217   1.0   \n",
       "57   HLA-DRB1*0101  FVKEIQHEL  sp_O34090_HEM3_STAA8  GLFVKEIQHEL   57   4.0   \n",
       "58   HLA-DRB1*0101  FVKEIQHEL  sp_O34090_HEM3_STAA8  LFVKEIQHELF   58   4.0   \n",
       "59   HLA-DRB1*0101  FVKEIQHEL  sp_O34090_HEM3_STAA8  FVKEIQHELFE   59   4.0   \n",
       "125  HLA-DRB1*0305  LRRGAQILS  sp_O34090_HEM3_STAA8  SSLRRGAQILS  125   4.0   \n",
       "126  HLA-DRB1*0305  LRRGAQILS  sp_O34090_HEM3_STAA8  SLRRGAQILSK  126   4.0   \n",
       "127  HLA-DRB1*0305  LRRGAQILS  sp_O34090_HEM3_STAA8  LRRGAQILSKY  127   4.0   \n",
       "\n",
       "       score  \n",
       "223  0.89000  \n",
       "224  0.89000  \n",
       "225  0.89000  \n",
       "215  3.76600  \n",
       "216  3.76600  \n",
       "217  3.76600  \n",
       "57   0.50000  \n",
       "58   0.50000  \n",
       "59   0.50000  \n",
       "125  3.43064  \n",
       "126  3.43064  \n",
       "127  3.43064  "
      ]
     },
     "execution_count": 14,
     "metadata": {},
     "output_type": "execute_result"
    }
   ],
   "source": [
    "p.get_binders(name=name, cutoff=5, cutoff_method='rank').sort_values('rank')"
   ]
  },
  {
   "cell_type": "markdown",
   "id": "62ad84bb",
   "metadata": {},
   "source": [
    "get all promiscuous binders"
   ]
  },
  {
   "cell_type": "code",
   "execution_count": 15,
   "id": "8b7ac866",
   "metadata": {},
   "outputs": [],
   "source": [
    "pb = p.promiscuous_binders(n=2, cutoff=.95)"
   ]
  },
  {
   "cell_type": "code",
   "execution_count": 16,
   "id": "1afd868f",
   "metadata": {},
   "outputs": [
    {
     "data": {
      "text/plain": [
       "(6943, 8)"
      ]
     },
     "execution_count": 16,
     "metadata": {},
     "output_type": "execute_result"
    }
   ],
   "source": [
    "pb.shape"
   ]
  },
  {
   "cell_type": "code",
   "execution_count": 17,
   "id": "20985962",
   "metadata": {},
   "outputs": [
    {
     "data": {
      "text/html": [
       "<div>\n",
       "<style scoped>\n",
       "    .dataframe tbody tr th:only-of-type {\n",
       "        vertical-align: middle;\n",
       "    }\n",
       "\n",
       "    .dataframe tbody tr th {\n",
       "        vertical-align: top;\n",
       "    }\n",
       "\n",
       "    .dataframe thead th {\n",
       "        text-align: right;\n",
       "    }\n",
       "</style>\n",
       "<table border=\"1\" class=\"dataframe\">\n",
       "  <thead>\n",
       "    <tr style=\"text-align: right;\">\n",
       "      <th></th>\n",
       "      <th>peptide</th>\n",
       "      <th>pos</th>\n",
       "      <th>name</th>\n",
       "      <th>alleles</th>\n",
       "      <th>core</th>\n",
       "      <th>score</th>\n",
       "      <th>mean</th>\n",
       "      <th>median_rank</th>\n",
       "    </tr>\n",
       "  </thead>\n",
       "  <tbody>\n",
       "    <tr>\n",
       "      <th>25168</th>\n",
       "      <td>GWRIIDPIISI</td>\n",
       "      <td>191</td>\n",
       "      <td>tr_Q2G1I9_Q2G1I9_STAA8</td>\n",
       "      <td>2</td>\n",
       "      <td>WRIIDPIIS</td>\n",
       "      <td>6.04834</td>\n",
       "      <td>5.17417</td>\n",
       "      <td>1.0</td>\n",
       "    </tr>\n",
       "    <tr>\n",
       "      <th>2631</th>\n",
       "      <td>ALVVLDGVSLI</td>\n",
       "      <td>190</td>\n",
       "      <td>tr_Q2FX22_Q2FX22_STAA8</td>\n",
       "      <td>2</td>\n",
       "      <td>LVVLDGVSL</td>\n",
       "      <td>5.96548</td>\n",
       "      <td>4.68274</td>\n",
       "      <td>1.0</td>\n",
       "    </tr>\n",
       "    <tr>\n",
       "      <th>19908</th>\n",
       "      <td>FVILPVVMSIG</td>\n",
       "      <td>268</td>\n",
       "      <td>tr_Q2FW78_Q2FW78_STAA8</td>\n",
       "      <td>2</td>\n",
       "      <td>FVILPVVMS</td>\n",
       "      <td>5.94260</td>\n",
       "      <td>4.87130</td>\n",
       "      <td>1.0</td>\n",
       "    </tr>\n",
       "  </tbody>\n",
       "</table>\n",
       "</div>"
      ],
      "text/plain": [
       "           peptide  pos                    name  alleles       core    score  \\\n",
       "25168  GWRIIDPIISI  191  tr_Q2G1I9_Q2G1I9_STAA8        2  WRIIDPIIS  6.04834   \n",
       "2631   ALVVLDGVSLI  190  tr_Q2FX22_Q2FX22_STAA8        2  LVVLDGVSL  5.96548   \n",
       "19908  FVILPVVMSIG  268  tr_Q2FW78_Q2FW78_STAA8        2  FVILPVVMS  5.94260   \n",
       "\n",
       "          mean  median_rank  \n",
       "25168  5.17417          1.0  \n",
       "2631   4.68274          1.0  \n",
       "19908  4.87130          1.0  "
      ]
     },
     "execution_count": 17,
     "metadata": {},
     "output_type": "execute_result"
    }
   ],
   "source": [
    "pb.head(3)"
   ]
  },
  {
   "cell_type": "markdown",
   "id": "c5949b2c",
   "metadata": {},
   "source": [
    "find clusters of binders in these results"
   ]
  },
  {
   "cell_type": "code",
   "execution_count": 18,
   "id": "bcf9aa46",
   "metadata": {},
   "outputs": [],
   "source": [
    "cl = analysis.find_clusters(pb, dist=9, min_size=3)"
   ]
  },
  {
   "cell_type": "code",
   "execution_count": 19,
   "id": "46d9b6da",
   "metadata": {},
   "outputs": [
    {
     "data": {
      "text/html": [
       "<div>\n",
       "<style scoped>\n",
       "    .dataframe tbody tr th:only-of-type {\n",
       "        vertical-align: middle;\n",
       "    }\n",
       "\n",
       "    .dataframe tbody tr th {\n",
       "        vertical-align: top;\n",
       "    }\n",
       "\n",
       "    .dataframe thead th {\n",
       "        text-align: right;\n",
       "    }\n",
       "</style>\n",
       "<table border=\"1\" class=\"dataframe\">\n",
       "  <thead>\n",
       "    <tr style=\"text-align: right;\">\n",
       "      <th></th>\n",
       "      <th>name</th>\n",
       "      <th>start</th>\n",
       "      <th>end</th>\n",
       "      <th>binders</th>\n",
       "      <th>length</th>\n",
       "    </tr>\n",
       "  </thead>\n",
       "  <tbody>\n",
       "    <tr>\n",
       "      <th>992</th>\n",
       "      <td>tr_Q2G129_Q2G129_STAA8</td>\n",
       "      <td>457</td>\n",
       "      <td>506</td>\n",
       "      <td>9</td>\n",
       "      <td>49</td>\n",
       "    </tr>\n",
       "    <tr>\n",
       "      <th>544</th>\n",
       "      <td>tr_Q2FWI3_Q2FWI3_STAA8</td>\n",
       "      <td>247</td>\n",
       "      <td>278</td>\n",
       "      <td>7</td>\n",
       "      <td>31</td>\n",
       "    </tr>\n",
       "    <tr>\n",
       "      <th>568</th>\n",
       "      <td>tr_Q2FWV7_Q2FWV7_STAA8</td>\n",
       "      <td>1</td>\n",
       "      <td>32</td>\n",
       "      <td>7</td>\n",
       "      <td>31</td>\n",
       "    </tr>\n",
       "    <tr>\n",
       "      <th>552</th>\n",
       "      <td>tr_Q2FWL9_Q2FWL9_STAA8</td>\n",
       "      <td>349</td>\n",
       "      <td>379</td>\n",
       "      <td>7</td>\n",
       "      <td>30</td>\n",
       "    </tr>\n",
       "    <tr>\n",
       "      <th>443</th>\n",
       "      <td>tr_Q2FVT9_Q2FVT9_STAA8</td>\n",
       "      <td>158</td>\n",
       "      <td>179</td>\n",
       "      <td>7</td>\n",
       "      <td>21</td>\n",
       "    </tr>\n",
       "    <tr>\n",
       "      <th>...</th>\n",
       "      <td>...</td>\n",
       "      <td>...</td>\n",
       "      <td>...</td>\n",
       "      <td>...</td>\n",
       "      <td>...</td>\n",
       "    </tr>\n",
       "    <tr>\n",
       "      <th>1280</th>\n",
       "      <td>tr_Q2G2N5_Q2G2N5_STAA8</td>\n",
       "      <td>225</td>\n",
       "      <td>237</td>\n",
       "      <td>2</td>\n",
       "      <td>12</td>\n",
       "    </tr>\n",
       "    <tr>\n",
       "      <th>1293</th>\n",
       "      <td>tr_Q2G2T5_Q2G2T5_STAA8</td>\n",
       "      <td>71</td>\n",
       "      <td>83</td>\n",
       "      <td>2</td>\n",
       "      <td>12</td>\n",
       "    </tr>\n",
       "    <tr>\n",
       "      <th>1297</th>\n",
       "      <td>tr_Q2G2U7_Q2G2U7_STAA8</td>\n",
       "      <td>150</td>\n",
       "      <td>162</td>\n",
       "      <td>2</td>\n",
       "      <td>12</td>\n",
       "    </tr>\n",
       "    <tr>\n",
       "      <th>1300</th>\n",
       "      <td>tr_Q2G2V7_Q2G2V7_STAA8</td>\n",
       "      <td>110</td>\n",
       "      <td>122</td>\n",
       "      <td>2</td>\n",
       "      <td>12</td>\n",
       "    </tr>\n",
       "    <tr>\n",
       "      <th>1305</th>\n",
       "      <td>tr_Q2G2V9_Q2G2V9_STAA8</td>\n",
       "      <td>145</td>\n",
       "      <td>157</td>\n",
       "      <td>2</td>\n",
       "      <td>12</td>\n",
       "    </tr>\n",
       "  </tbody>\n",
       "</table>\n",
       "<p>1314 rows × 5 columns</p>\n",
       "</div>"
      ],
      "text/plain": [
       "                        name  start  end  binders  length\n",
       "992   tr_Q2G129_Q2G129_STAA8    457  506        9      49\n",
       "544   tr_Q2FWI3_Q2FWI3_STAA8    247  278        7      31\n",
       "568   tr_Q2FWV7_Q2FWV7_STAA8      1   32        7      31\n",
       "552   tr_Q2FWL9_Q2FWL9_STAA8    349  379        7      30\n",
       "443   tr_Q2FVT9_Q2FVT9_STAA8    158  179        7      21\n",
       "...                      ...    ...  ...      ...     ...\n",
       "1280  tr_Q2G2N5_Q2G2N5_STAA8    225  237        2      12\n",
       "1293  tr_Q2G2T5_Q2G2T5_STAA8     71   83        2      12\n",
       "1297  tr_Q2G2U7_Q2G2U7_STAA8    150  162        2      12\n",
       "1300  tr_Q2G2V7_Q2G2V7_STAA8    110  122        2      12\n",
       "1305  tr_Q2G2V9_Q2G2V9_STAA8    145  157        2      12\n",
       "\n",
       "[1314 rows x 5 columns]"
      ]
     },
     "execution_count": 19,
     "metadata": {},
     "output_type": "execute_result"
    }
   ],
   "source": [
    "cl"
   ]
  },
  {
   "cell_type": "code",
   "execution_count": null,
   "id": "cf7e22b8",
   "metadata": {},
   "outputs": [],
   "source": []
  }
 ],
 "metadata": {
  "kernelspec": {
   "display_name": "Python 3 (ipykernel)",
   "language": "python",
   "name": "python3"
  },
  "language_info": {
   "codemirror_mode": {
    "name": "ipython",
    "version": 3
   },
   "file_extension": ".py",
   "mimetype": "text/x-python",
   "name": "python",
   "nbconvert_exporter": "python",
   "pygments_lexer": "ipython3",
   "version": "3.10.6"
  },
  "toc": {
   "base_numbering": 1,
   "nav_menu": {},
   "number_sections": true,
   "sideBar": true,
   "skip_h1_title": false,
   "title_cell": "Table of Contents",
   "title_sidebar": "Contents",
   "toc_cell": false,
   "toc_position": {},
   "toc_section_display": true,
   "toc_window_display": false
  }
 },
 "nbformat": 4,
 "nbformat_minor": 5
}
