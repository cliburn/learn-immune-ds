{
 "cells": [
  {
   "cell_type": "markdown",
   "id": "a43b3c5f-ef77-43c2-9e4c-431aeb27182a",
   "metadata": {},
   "source": [
    "# NetMHCPan 4.1 resources\n",
    "\n",
    "- [Install NetNHCPan for R](https://github.com/tzina97/netMHCpan/blob/main/README.md)\n",
    "- [Training and example data](https://services.healthtech.dtu.dk/suppl/immunology/NAR_NetMHCpan_NetMHCIIpan/)\n",
    "- [Creating sequence logos](https://omarwagih.github.io/ggseqlogo/)\n",
    "- [CMPD: cancer mutant proteome database](http://120.126.1.62/cmpd)\n",
    "- [Neoantigen database](http://119.3.70.71/dbPepNeo2/home.html)\n",
    "- [Neoantimon: a multifunctional R package for identification of tumor-specific neoantigens](https://www.ncbi.nlm.nih.gov/pmc/articles/PMC7750962/)\n",
    "    - [GitHub package](https://github.com/hase62/Neoantimon)"
   ]
  },
  {
   "cell_type": "markdown",
   "id": "97085de3-3900-4a9b-b794-57978492b3f7",
   "metadata": {},
   "source": [
    "## Sketch of project (draft notebook for workshop participants to work through)\n",
    "\n",
    "1. Install NetMHCPan 4.1 and assoicated R package\n",
    "2. Find 3 protein pairs from matched normal/melanoma samples\n",
    "    1. Sequence for WT\n",
    "    2. Sequence with neoantigens\n",
    "        - Find in-frame translated sequences \n",
    "        - If we don't know fraem, compare start of sequenc wiht wild type to find best match\n",
    "3. Find 3 HLA Class I alleles (most common in US population)\n",
    "4. Run NetMHCPan 4.1 on 3 protein pairs and 3 HLA Class I to get predicted binding\n",
    "5. Compare results against known netantigen database\n",
    "6. Generate DNA sequene logos"
   ]
  },
  {
   "cell_type": "code",
   "execution_count": null,
   "id": "e23f3e93-5de4-4413-b38e-3aa71c9fe5dd",
   "metadata": {},
   "outputs": [],
   "source": []
  }
 ],
 "metadata": {
  "kernelspec": {
   "display_name": "R",
   "language": "R",
   "name": "ir"
  },
  "language_info": {
   "codemirror_mode": "r",
   "file_extension": ".r",
   "mimetype": "text/x-r-source",
   "name": "R",
   "pygments_lexer": "r",
   "version": "4.2.2"
  }
 },
 "nbformat": 4,
 "nbformat_minor": 5
}
