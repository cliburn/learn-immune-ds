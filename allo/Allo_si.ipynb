{
 "cells": [
  {
   "cell_type": "code",
   "execution_count": 5,
   "id": "0f751aaf",
   "metadata": {},
   "outputs": [],
   "source": [
    "import numpy as np\n",
    "from scipy.special import comb\n",
    "from scipy.stats import binom\n",
    "from scipy.optimize import minimize"
   ]
  },
  {
   "cell_type": "code",
   "execution_count": 2,
   "id": "3b354d7f",
   "metadata": {},
   "outputs": [],
   "source": [
    "cells = 200\n",
    "wells = 700\n",
    "hits = 100"
   ]
  },
  {
   "cell_type": "code",
   "execution_count": 6,
   "id": "dc46c737",
   "metadata": {},
   "outputs": [],
   "source": [
    "def loglik(k, n, m, λ):\n",
    "    \"\"\"Probabilty of k hits with n wells and m cells per well where each cell is positive with probabiliyt λ.\"\"\"\n",
    "    \n",
    "    p = 1 - binom(m, λ).pmf(0)\n",
    "    return -np.log(binom(n, p).pmf(k))"
   ]
  },
  {
   "cell_type": "code",
   "execution_count": 7,
   "id": "d4138ea2",
   "metadata": {},
   "outputs": [
    {
     "data": {
      "text/plain": [
       "2.8813513448134738"
      ]
     },
     "execution_count": 7,
     "metadata": {},
     "output_type": "execute_result"
    }
   ],
   "source": [
    "loglik(100, cells, wells, 0.001)"
   ]
  },
  {
   "cell_type": "code",
   "execution_count": null,
   "id": "2a9d0174",
   "metadata": {},
   "outputs": [],
   "source": []
  }
 ],
 "metadata": {
  "kernelspec": {
   "display_name": "Python 3 (ipykernel)",
   "language": "python",
   "name": "python3"
  },
  "language_info": {
   "codemirror_mode": {
    "name": "ipython",
    "version": 3
   },
   "file_extension": ".py",
   "mimetype": "text/x-python",
   "name": "python",
   "nbconvert_exporter": "python",
   "pygments_lexer": "ipython3",
   "version": "3.10.6"
  },
  "toc": {
   "base_numbering": 1,
   "nav_menu": {},
   "number_sections": true,
   "sideBar": true,
   "skip_h1_title": false,
   "title_cell": "Table of Contents",
   "title_sidebar": "Contents",
   "toc_cell": false,
   "toc_position": {},
   "toc_section_display": true,
   "toc_window_display": false
  }
 },
 "nbformat": 4,
 "nbformat_minor": 5
}
