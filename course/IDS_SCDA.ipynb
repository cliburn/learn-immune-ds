{
 "cells": [
  {
   "cell_type": "markdown",
   "id": "1601b69b-ad7c-42a4-bd1b-8e106ec183c4",
   "metadata": {},
   "source": [
    "# Immune Single Cell Data Science"
   ]
  },
  {
   "cell_type": "markdown",
   "id": "776235a3-9375-4b3c-a59d-47efa02361cb",
   "metadata": {},
   "source": [
    "Zhao J, Zhang S, Liu Y, He X, Qu M et al. (2020) Single-cell RNA sequencing reveals the heterogeneity of liver-resident immune cells in human.\n",
    "\n",
    "- https://pubmed.ncbi.nlm.nih.gov/32351704/"
   ]
  },
  {
   "cell_type": "code",
   "execution_count": 12,
   "id": "141b99a7-a41f-4923-b88b-f0d7551b91a8",
   "metadata": {},
   "outputs": [],
   "source": [
    "import warnings\n",
    "warnings.simplefilter('ignore', FutureWarning)\n",
    "warnings.simplefilter('ignore', RuntimeWarning)"
   ]
  },
  {
   "cell_type": "code",
   "execution_count": 13,
   "id": "4a7596fd-124f-4f3c-b76f-bbee96a536dd",
   "metadata": {},
   "outputs": [],
   "source": [
    "import ollama"
   ]
  },
  {
   "cell_type": "code",
   "execution_count": 48,
   "id": "6316146d-181d-4783-a5f0-8c51a93f16f5",
   "metadata": {},
   "outputs": [],
   "source": [
    "from IPython.display import display, Markdown"
   ]
  },
  {
   "cell_type": "markdown",
   "id": "1594c9db-6b56-4bff-83d2-1ea2d8463cc2",
   "metadata": {},
   "source": [
    "## Use of LLMs\n",
    "\n",
    "In general, it is ok to use LLMs such as `mistral` to ask general quesitons. However, it is dangerous to ask it for code if you do not know what you are doing, as the code generated is often wrong or sub-optimal.\n"
   ]
  },
  {
   "cell_type": "code",
   "execution_count": 51,
   "id": "58d8f6a5-b316-46fc-857e-bc4ba1c5cba3",
   "metadata": {},
   "outputs": [],
   "source": [
    "def ask(query, model='mistral'):\n",
    "    \"\"\"Ask a quesitn of an LLM.\"\"\"\n",
    "\n",
    "    response = ollama.chat(model=model, messages=[\n",
    "      {\n",
    "        'role': 'user',\n",
    "        'content': query,\n",
    "      },\n",
    "    ])\n",
    "    display(Markdown(response['message']['content']))"
   ]
  },
  {
   "cell_type": "code",
   "execution_count": 52,
   "id": "d8a7e67c-71e0-4266-ae09-30fa26af7591",
   "metadata": {},
   "outputs": [
    {
     "data": {
      "text/markdown": [
       " Scanpy is a Python library designed for the analysis of single-cell RNA sequencing (scRNA-seq) data. It provides tools for low-level data processing, such as quality control and normalization, as well as high-level analyses like clustering and differential expression analysis. Scanpy is built on top of NumPy, Pandas, and scipy, making it an efficient and flexible tool for scRNA-seq data analysis. It also integrates with Seurat's Louvain clustering algorithm and provides a simple interface to perform trajectory analysis using Monocle. Overall, Scanpy offers a streamlined and user-friendly approach for exploring the complexities of single-cell transcriptomic data."
      ],
      "text/plain": [
       "<IPython.core.display.Markdown object>"
      ]
     },
     "metadata": {},
     "output_type": "display_data"
    }
   ],
   "source": [
    "ask(\"Waht is scanpy?\")"
   ]
  },
  {
   "cell_type": "code",
   "execution_count": 8,
   "id": "335e85e3-e4e6-44c4-ac40-657740b4ef38",
   "metadata": {},
   "outputs": [],
   "source": [
    "import scanpy as sc\n",
    "import scanpy.external as sce"
   ]
  },
  {
   "cell_type": "code",
   "execution_count": 53,
   "id": "5645d9b0-233a-4360-822b-41670c69b415",
   "metadata": {},
   "outputs": [
    {
     "data": {
      "text/markdown": [
       " Scanpy is a popular tool for analyzing single-cell RNA sequencing data. Here are ten repositories and databases where you can find single-cell datasets that are often available in formats compatible with Scanpy:\n",
       "\n",
       "1. **Single Cell Portal** (https://singlecell.broadinstitute.org/): This is a comprehensive resource from the Broad Institute, which provides access to large collections of single-cell RNA sequencing data and associated metadata. The data can be downloaded in various formats, including those suitable for Scanpy.\n",
       "2. **10X Genomics Data Browser** (https://data.10xgenomics.com/): 10X Genomics is a leading provider of single-cell sequencing solutions, and their data browser offers public datasets that can be downloaded in various formats, including H5AD format which Scanpy supports.\n",
       "3. **Gene Expression Omnibus (GEO)** (https://www.ncbi.nlm.nih.gov/geo/): GEO is a public database of microarray and RNA-Seq datasets, including many single-cell experiments. Some data may require preprocessing before being used with Scanpy.\n",
       "4. **European Nucleotide Archive (ENA)** (https://www.ebi.ac.uk/ena): ENA is a public repository for nucleotide sequence data, including single-cell RNA-Seq datasets. The data can often be downloaded in formats suitable for Scanpy.\n",
       "5. **BioConductor Single Cell Experiment** (https://bioconductor.org/packages/3.16/bioc/html/SingleCellExperiment.html): This Bioconductor package provides a framework for managing and analyzing single-cell RNA-Seq experiments. The data can be accessed from various sources, including GEO and ENA.\n",
       "6. **The Human Cell Atlas** (https://portal.humancellatlas.org/): The Human Cell Atlas project aims to map every cell type in the human body. They provide open access to single-cell datasets, which can be downloaded in various formats, including those suitable for Scanpy.\n",
       "7. **National Center for Biotechnology Information (NCBI) SRA** (https://www.ncbi.nlm.nih.gov/sra): The Sequence Read Archive contains single-cell RNA sequencing data and associated metadata from various sources, including 10X Genomics, the Broad Institute, and the Allen Institute for Brain Science. The data can often be downloaded in formats suitable for Scanpy.\n",
       "8. **International Cancer Genome Consortium (ICGC)** (https://dcc.icgc.org/): ICGC is a large-scale international initiative to analyze the genomic and epigenomic alterations that occur in cancer. They provide access to single-cell RNA sequencing data from various cancer types, which can be downloaded in various formats, including those suitable for Scanpy.\n",
       "9. **Molecular Taxonomy Unit (MTU)** at the European Bioinformatics Institute (EBI) (https://www.ebi.ac.uk/gold): The MTU provides access to single-cell RNA sequencing data from various organisms, including plants and fungi. The data can often be downloaded in formats suitable for Scanpy.\n",
       "10. **Roadmap Epigenomics Project** (https://www.roadmapepigenomics.org/): This is a comprehensive effort to map the epigenomes of human cells. They provide access to single-cell RNA sequencing data, which can be downloaded in various formats, including those suitable for Scanpy.\n",
       "\n",
       "It's important to note that some of these datasets may require additional processing or formatting before being used with Scanpy. Always check the documentation and metadata associated with each dataset to ensure compatibility."
      ],
      "text/plain": [
       "<IPython.core.display.Markdown object>"
      ]
     },
     "metadata": {},
     "output_type": "display_data"
    }
   ],
   "source": [
    "ask(\"List 10 sites where I can donwload single cell datasets in a format for scanpy\")"
   ]
  },
  {
   "cell_type": "code",
   "execution_count": 54,
   "id": "80f056af-121e-43c1-9814-b73668dc94c1",
   "metadata": {},
   "outputs": [
    {
     "data": {
      "text/markdown": [
       " Yes, Scanpy comes with several built-in datasets that can be used for learning and experimentation. Some of the most commonly used ones are:\n",
       "\n",
       "1. PBMC (Peripheral Blood Mononuclear Cells) dataset: This is a large-scale single-cell RNA sequencing dataset consisting of 106,708 cells from 56 donors. The data includes 31 different cell types and various phenotypic and clinical metadata.\n",
       "2. Mouse Cortex dataset: This dataset consists of single-cell RNA sequencing data from the mouse cortex. It contains information about gene expression profiles, cell types, and their spatial locations.\n",
       "3. TCGA (The Cancer Genome Atlas) dataset: Scanpy includes an interface for accessing the TCGA dataset, which is a large collection of genomic and clinical data from various types of cancer.\n",
       "4. PanglaoDB: This is a curated database of single-cell RNA sequencing datasets, which can be accessed through Scanpy using the `mm10_panglao` and `grch38_panglao` datasets. It includes data from various human tissues and cell types.\n",
       "\n",
       "To load these datasets in Scanpy, you can use the following code snippets:\n",
       "\n",
       "```python\n",
       "import scanpy as sc\n",
       "\n",
       "# Load PBMC dataset\n",
       "pbmc = sc.read_10x('./data/single_cell/5k_pbmc3k_v1_1.h5ad')\n",
       "\n",
       "# Load Mouse Cortex dataset\n",
       "mouse_cortex = sc.read('../data/mouse_cortex/mouse_cortex.h5ad')\n",
       "\n",
       "# Access TCGA data using the 'mm10' or 'grch38' kernels\n",
       "tcga = sc.set_data(sc.external.fetch_tisa_data('TCGA', 'mm10')) # for mm10 genome\n",
       "tcga = sc.set_data(sc.external.fetch_tisa_data('TCGA', 'grch38'))  # for grch38 genome\n",
       "\n",
       "# Load PanglaoDB dataset\n",
       "panglao = sc.read('../data/panglaoDB/mm10_panglao.h5ad') # for mm10 genome\n",
       "panglao = sc.read('../data/panglaoDB/grch38_panglao.h5ad')  # for grch38 genome\n",
       "```\n",
       "\n",
       "These datasets can be used as a starting point for various single-cell data analysis tasks, such as clustering, dimensionality reduction, differential expression analysis, and visualization."
      ],
      "text/plain": [
       "<IPython.core.display.Markdown object>"
      ]
     },
     "metadata": {},
     "output_type": "display_data"
    }
   ],
   "source": [
    "ask(\"Are there any built-in datasets provided with scanpy?\")"
   ]
  },
  {
   "cell_type": "code",
   "execution_count": 61,
   "id": "cbebef08-251f-4fac-a9ac-07c2736ea116",
   "metadata": {},
   "outputs": [
    {
     "name": "stdout",
     "output_type": "stream",
     "text": [
      "Help on function pbmc3k in module scanpy.datasets._datasets:\n",
      "\n",
      "pbmc3k() -> anndata._core.anndata.AnnData\n",
      "    3k PBMCs from 10x Genomics.\n",
      "    \n",
      "    The data consists in 3k PBMCs from a Healthy Donor and is freely available\n",
      "    from 10x Genomics (`here\n",
      "    <http://cf.10xgenomics.com/samples/cell-exp/1.1.0/pbmc3k/pbmc3k_filtered_gene_bc_matrices.tar.gz>`__\n",
      "    from this `webpage\n",
      "    <https://support.10xgenomics.com/single-cell-gene-expression/datasets/1.1.0/pbmc3k>`__).\n",
      "    \n",
      "    The exact same data is also used in Seurat's\n",
      "    `basic clustering tutorial <https://satijalab.org/seurat/pbmc3k_tutorial.html>`__.\n",
      "    \n",
      "    .. note::\n",
      "    \n",
      "        This downloads 5.9 MB of data upon the first call of the function and stores it in `./data/pbmc3k_raw.h5ad`.\n",
      "    \n",
      "    The following code was run to produce the file.\n",
      "    \n",
      "    .. code:: python\n",
      "    \n",
      "        adata = sc.read_10x_mtx(\n",
      "            # the directory with the `.mtx` file\n",
      "            './data/filtered_gene_bc_matrices/hg19/',\n",
      "            # use gene symbols for the variable names (variables-axis index)\n",
      "            var_names='gene_symbols',\n",
      "            # write a cache file for faster subsequent reading\n",
      "            cache=True,\n",
      "        )\n",
      "    \n",
      "        adata.var_names_make_unique()  # this is unnecessary if using 'gene_ids'\n",
      "        adata.write('write/pbmc3k_raw.h5ad', compression='gzip')\n",
      "    \n",
      "    Returns\n",
      "    -------\n",
      "    Annotated data matrix.\n",
      "\n"
     ]
    }
   ],
   "source": [
    "help(sc.datasets.pbmc3k)"
   ]
  },
  {
   "cell_type": "code",
   "execution_count": 38,
   "id": "116a254d-8a3f-41db-9a88-492485920b31",
   "metadata": {},
   "outputs": [],
   "source": [
    "data = sc.datasets.pbmc3k()"
   ]
  },
  {
   "cell_type": "code",
   "execution_count": 65,
   "id": "fbd8cfaf-2fa0-4351-803d-3f14e8631c1a",
   "metadata": {},
   "outputs": [
    {
     "data": {
      "text/markdown": [
       " An `AnnData` object is a type of data structure in the `anndata` package of the Scikit-learn library, which is specifically designed for handling single-cell RNA sequencing (scRNA-seq) data. This object extends the HDF5-based `h5ad` format to support additional annotation and metadata information, as well as various computational analyses common in scRNA-seq analysis, such as neighborhood graph construction, clustering, and dimensionality reduction.\n",
       "\n",
       "At its core, an `AnnData` object is a multi-dimensional array with the following components:\n",
       "\n",
       "1. **X**: The expression levels of genes across all cells, typically stored as a sparse matrix or dense NumPy array.\n",
       "2. **obsm**: A dictionary that stores various pre-computed data matrices (e.g., PCA results, RNA velocity vectors) as optional slot-specific subarrays within the HDF5 file.\n",
       "3. **layers**: A list of layer-specific data (e.g., cell type labels, trajectory information) as separate subarrays within the HDF5 file.\n",
       "4. **obs**: Cell-level metadata and annotations such as batch information or cellular morphology features.\n",
       "5. **uns**: Unstructured data associated with cells or genes, such as gene names, protein interaction data, or cellular phenotypes.\n",
       "\n",
       "The `AnnData` object also provides methods for common scRNA-seq analysis tasks like neighborhood graph construction, clustering, and dimensionality reduction, making it a powerful tool for exploratory data analysis in the context of single-cell RNA sequencing experiments."
      ],
      "text/plain": [
       "<IPython.core.display.Markdown object>"
      ]
     },
     "metadata": {},
     "output_type": "display_data"
    }
   ],
   "source": [
    "ask(\"Explain what an AnnData object is\")"
   ]
  },
  {
   "cell_type": "code",
   "execution_count": 64,
   "id": "9e310bec-706e-4b4b-b30e-a9e6566b343a",
   "metadata": {},
   "outputs": [
    {
     "data": {
      "text/plain": [
       "\u001b[0;31mType:\u001b[0m        AnnData\n",
       "\u001b[0;31mString form:\u001b[0m\n",
       "AnnData object with n_obs × n_vars = 2700 × 32738\n",
       "    var: 'gene_ids'\n",
       "\u001b[0;31mLength:\u001b[0m      2700\n",
       "\u001b[0;31mFile:\u001b[0m        ~/.pyenv/versions/3.10.12/lib/python3.10/site-packages/anndata/_core/anndata.py\n",
       "\u001b[0;31mDocstring:\u001b[0m  \n",
       "An annotated data matrix.\n",
       "\n",
       ".. figure:: ../_static/img/anndata_schema.svg\n",
       "   :width: 260px\n",
       "   :align: right\n",
       "   :class: dark-light\n",
       "\n",
       ":class:`~anndata.AnnData` stores a data matrix :attr:`X` together with annotations\n",
       "of observations :attr:`obs` (:attr:`obsm`, :attr:`obsp`),\n",
       "variables :attr:`var` (:attr:`varm`, :attr:`varp`),\n",
       "and unstructured annotations :attr:`uns`.\n",
       "\n",
       "An :class:`~anndata.AnnData` object `adata` can be sliced like a\n",
       ":class:`~pandas.DataFrame`,\n",
       "for instance `adata_subset = adata[:, list_of_variable_names]`.\n",
       ":class:`~anndata.AnnData`’s basic structure is similar to R’s ExpressionSet\n",
       "[Huber15]_. If setting an `.h5ad`-formatted HDF5 backing file `.filename`,\n",
       "data remains on the disk but is automatically loaded into memory if needed.\n",
       "\n",
       "Parameters\n",
       "----------\n",
       "X\n",
       "    A #observations × #variables data matrix. A view of the data is used if the\n",
       "    data type matches, otherwise, a copy is made.\n",
       "obs\n",
       "    Key-indexed one-dimensional observations annotation of length #observations.\n",
       "var\n",
       "    Key-indexed one-dimensional variables annotation of length #variables.\n",
       "uns\n",
       "    Key-indexed unstructured annotation.\n",
       "obsm\n",
       "    Key-indexed multi-dimensional observations annotation of length #observations.\n",
       "    If passing a :class:`~numpy.ndarray`, it needs to have a structured datatype.\n",
       "varm\n",
       "    Key-indexed multi-dimensional variables annotation of length #variables.\n",
       "    If passing a :class:`~numpy.ndarray`, it needs to have a structured datatype.\n",
       "layers\n",
       "    Key-indexed multi-dimensional arrays aligned to dimensions of `X`.\n",
       "shape\n",
       "    Shape tuple (#observations, #variables). Can only be provided if `X` is `None`.\n",
       "filename\n",
       "    Name of backing file. See :class:`h5py.File`.\n",
       "filemode\n",
       "    Open mode of backing file. See :class:`h5py.File`.\n",
       "\n",
       "See Also\n",
       "--------\n",
       "read_h5ad\n",
       "read_csv\n",
       "read_excel\n",
       "read_hdf\n",
       "read_loom\n",
       "read_zarr\n",
       "read_mtx\n",
       "read_text\n",
       "read_umi_tools\n",
       "\n",
       "Notes\n",
       "-----\n",
       ":class:`~anndata.AnnData` stores observations (samples) of variables/features\n",
       "in the rows of a matrix.\n",
       "This is the convention of the modern classics of statistics [Hastie09]_\n",
       "and machine learning [Murphy12]_,\n",
       "the convention of dataframes both in R and Python and the established statistics\n",
       "and machine learning packages in Python (statsmodels_, scikit-learn_).\n",
       "\n",
       "Single dimensional annotations of the observation and variables are stored\n",
       "in the :attr:`obs` and :attr:`var` attributes as :class:`~pandas.DataFrame`\\ s.\n",
       "This is intended for metrics calculated over their axes.\n",
       "Multi-dimensional annotations are stored in :attr:`obsm` and :attr:`varm`,\n",
       "which are aligned to the objects observation and variable dimensions respectively.\n",
       "Square matrices representing graphs are stored in :attr:`obsp` and :attr:`varp`,\n",
       "with both of their own dimensions aligned to their associated axis.\n",
       "Additional measurements across both observations and variables are stored in\n",
       ":attr:`layers`.\n",
       "\n",
       "Indexing into an AnnData object can be performed by relative position\n",
       "with numeric indices (like pandas’ :meth:`~pandas.DataFrame.iloc`),\n",
       "or by labels (like :meth:`~pandas.DataFrame.loc`).\n",
       "To avoid ambiguity with numeric indexing into observations or variables,\n",
       "indexes of the AnnData object are converted to strings by the constructor.\n",
       "\n",
       "Subsetting an AnnData object by indexing into it will also subset its elements\n",
       "according to the dimensions they were aligned to.\n",
       "This means an operation like `adata[list_of_obs, :]` will also subset :attr:`obs`,\n",
       ":attr:`obsm`, and :attr:`layers`.\n",
       "\n",
       "Subsetting an AnnData object returns a view into the original object,\n",
       "meaning very little additional memory is used upon subsetting.\n",
       "This is achieved lazily, meaning that the constituent arrays are subset on access.\n",
       "Copying a view causes an equivalent “real” AnnData object to be generated.\n",
       "Attempting to modify a view (at any attribute except X) is handled\n",
       "in a copy-on-modify manner, meaning the object is initialized in place.\n",
       "Here’s an example::\n",
       "\n",
       "    batch1 = adata[adata.obs[\"batch\"] == \"batch1\", :]\n",
       "    batch1.obs[\"value\"] = 0  # This makes batch1 a “real” AnnData object\n",
       "\n",
       "At the end of this snippet: `adata` was not modified,\n",
       "and `batch1` is its own AnnData object with its own data.\n",
       "\n",
       "Similar to Bioconductor’s `ExpressionSet` and :mod:`scipy.sparse` matrices,\n",
       "subsetting an AnnData object retains the dimensionality of its constituent arrays.\n",
       "Therefore, unlike with the classes exposed by :mod:`pandas`, :mod:`numpy`,\n",
       "and `xarray`, there is no concept of a one dimensional AnnData object.\n",
       "AnnDatas always have two inherent dimensions, :attr:`obs` and :attr:`var`.\n",
       "Additionally, maintaining the dimensionality of the AnnData object allows for\n",
       "consistent handling of :mod:`scipy.sparse` matrices and :mod:`numpy` arrays.\n",
       "\n",
       ".. _statsmodels: http://www.statsmodels.org/stable/index.html\n",
       ".. _scikit-learn: http://scikit-learn.org/"
      ]
     },
     "metadata": {},
     "output_type": "display_data"
    }
   ],
   "source": [
    "?data"
   ]
  },
  {
   "cell_type": "code",
   "execution_count": null,
   "id": "93e2f329-582b-430d-be57-881393158033",
   "metadata": {},
   "outputs": [],
   "source": []
  },
  {
   "cell_type": "markdown",
   "id": "09d21eae-4d6c-4b92-a865-b464e10186a4",
   "metadata": {},
   "source": [
    "### Download data set from HCA\n",
    "\n",
    "- [A single cell immune cell atlas of human hematopoietic system](https://explore.data.humancellatlas.org/projects/cc95ff89-2e68-4a08-a234-480eca21ce79)"
   ]
  },
  {
   "cell_type": "code",
   "execution_count": 29,
   "id": "16f71ec4-cee7-4881-9698-38c41abe62c8",
   "metadata": {},
   "outputs": [
    {
     "name": "stderr",
     "output_type": "stream",
     "text": [
      "  % Total    % Received % Xferd  Average Speed   Time    Time     Time  Current\n",
      "                                 Dload  Upload   Total   Spent    Left  Speed\n",
      "100  3127  100  3127    0     0   9060      0 --:--:-- --:--:-- --:--:--  9063\n",
      "100  1951  100  1951    0     0   3492      0 --:--:-- --:--:-- --:--:-- 11148\n",
      "  % Total    % Received % Xferd  Average Speed   Time    Time     Time  Current\n",
      "                                 Dload  Upload   Total   Spent    Left  Speed\n",
      "  0     0    0     0    0     0      0      0 --:--:--  0:00:02 --:--:--     0\n",
      "100 66.5M  100 66.5M    0     0  11.0M      0  0:00:05  0:00:05 --:--:-- 24.3M\n",
      "  % Total    % Received % Xferd  Average Speed   Time    Time     Time  Current\n",
      "                                 Dload  Upload   Total   Spent    Left  Speed\n",
      "  0     0    0     0    0     0      0      0 --:--:--  0:00:01 --:--:--     0\n",
      "100  351M  100  351M    0     0  20.2M      0  0:00:17  0:00:17 --:--:-- 22.0M\n",
      "  % Total    % Received % Xferd  Average Speed   Time    Time     Time  Current\n",
      "                                 Dload  Upload   Total   Spent    Left  Speed\n",
      "  0     0    0     0    0     0      0      0 --:--:--  0:00:02 --:--:--     0\n",
      "100 1840M  100 1840M    0     0  23.6M      0  0:01:17  0:01:17 --:--:-- 24.4M\n",
      "  % Total    % Received % Xferd  Average Speed   Time    Time     Time  Current\n",
      "                                 Dload  Upload   Total   Spent    Left  Speed\n",
      "  0     0    0     0    0     0      0      0 --:--:-- --:--:-- --:--:--     0\n",
      "100 2154M  100 2154M    0     0  23.7M      0  0:01:30  0:01:30 --:--:-- 22.1M\n",
      "  % Total    % Received % Xferd  Average Speed   Time    Time     Time  Current\n",
      "                                 Dload  Upload   Total   Spent    Left  Speed\n",
      "  0     0    0     0    0     0      0      0 --:--:--  0:00:01 --:--:--     0\n",
      "100 1530M  100 1530M    0     0  22.4M      0  0:01:08  0:01:08 --:--:-- 19.6M\n",
      "  % Total    % Received % Xferd  Average Speed   Time    Time     Time  Current\n",
      "                                 Dload  Upload   Total   Spent    Left  Speed\n",
      "  0     0    0     0    0     0      0      0 --:--:--  0:00:02 --:--:--     0\n",
      "100  788M  100  788M    0     0  16.6M      0  0:00:47  0:00:47 --:--:-- 20.1M\n",
      "  % Total    % Received % Xferd  Average Speed   Time    Time     Time  Current\n",
      "                                 Dload  Upload   Total   Spent    Left  Speed\n",
      "  0     0    0     0    0     0      0      0 --:--:--  0:00:01 --:--:--     0\n",
      "100 4474M  100 4474M    0     0  22.5M      0  0:03:18  0:03:18 --:--:-- 22.4M\n",
      "  % Total    % Received % Xferd  Average Speed   Time    Time     Time  Current\n",
      "                                 Dload  Upload   Total   Spent    Left  Speed\n",
      "  0     0    0     0    0     0      0      0 --:--:--  0:00:02 --:--:--     0\n",
      "100 2889M  100 2889M    0     0  22.3M      0  0:02:09  0:02:09 --:--:-- 23.0M\n"
     ]
    },
    {
     "name": "stdout",
     "output_type": "stream",
     "text": [
      "Downloading to: bc351b55-800a-4803-9455-1eec99aff456/BL_hashing.h5ad\n",
      "\n",
      "Downloading to: e89dfe2c-d2fe-4dec-8151-a90b82632f62/CB_pooling_and_hashing.h5ad\n",
      "\n",
      "Downloading to: 20492a4b-0def-457b-9574-60dfdde2a0f2/BM_standard_design.h5ad\n",
      "\n",
      "Downloading to: 5f29c29a-51c6-435c-8ff0-2b2a9d05ebee/BL_standard_design.h5ad\n",
      "\n",
      "Downloading to: 405003d2-26e8-48f8-80f2-d538af357b22/CB_standard_design.h5ad\n",
      "\n",
      "Downloading to: 2ae30314-9b39-4259-af50-67521df39c9a/CB_extra.h5ad\n",
      "\n",
      "Downloading to: c50d807d-2306-4273-ba62-875486a96517/BL_pooling_and_control.h5ad\n",
      "\n",
      "Downloading to: 511478a9-1940-4aa3-ab63-e2791aa6e623/BM_pooling_and_control.h5ad\n",
      "\n"
     ]
    }
   ],
   "source": [
    "%%bash\n",
    "\n",
    "curl --location --fail https://service.azul.data.humancellatlas.org/manifest/files/ksQwlKVkY3AzNKRjdXJsxBAp0uUqOpZdEY6mvNiJeEmtxBDHUG4Ca5JfJLZvYxluSglOxCA1qXUJmqb7DtICTdweNzgqNavVJt6EfjEezHxf8dEUBg | curl --fail-early --continue-at - --retry 2 --retry-delay 10 --config -"
   ]
  },
  {
   "cell_type": "code",
   "execution_count": 9,
   "id": "3ca7d83d-57b9-42e7-a7ed-3c33fd94aa20",
   "metadata": {},
   "outputs": [],
   "source": [
    "ad = sc.datasets.ebi_expression_atlas('E-HCAD-32', )"
   ]
  },
  {
   "cell_type": "code",
   "execution_count": 10,
   "id": "8cec23f4-dac3-4311-9933-faccaa7be1a0",
   "metadata": {},
   "outputs": [
    {
     "data": {
      "text/plain": [
       "AnnData object with n_obs × n_vars = 58615 × 22790\n",
       "    obs: 'Sample Characteristic[organism]', 'Sample Characteristic Ontology Term[organism]', 'Sample Characteristic[individual]', 'Sample Characteristic Ontology Term[individual]', 'Sample Characteristic[sex]', 'Sample Characteristic Ontology Term[sex]', 'Sample Characteristic[age]', 'Sample Characteristic Ontology Term[age]', 'Sample Characteristic[developmental stage]', 'Sample Characteristic Ontology Term[developmental stage]', 'Sample Characteristic[disease]', 'Sample Characteristic Ontology Term[disease]', 'Sample Characteristic[organism part]', 'Sample Characteristic Ontology Term[organism part]', 'Sample Characteristic[cell type]', 'Sample Characteristic Ontology Term[cell type]', 'Sample Characteristic[organism status]', 'Sample Characteristic Ontology Term[organism status]', 'Sample Characteristic[cause of death]', 'Sample Characteristic Ontology Term[cause of death]', 'Factor Value[organism part]', 'Factor Value Ontology Term[organism part]'"
      ]
     },
     "execution_count": 10,
     "metadata": {},
     "output_type": "execute_result"
    }
   ],
   "source": [
    "ad"
   ]
  },
  {
   "cell_type": "code",
   "execution_count": 24,
   "id": "949b9ead-aeb6-40ad-ac14-e649c75b63fc",
   "metadata": {},
   "outputs": [
    {
     "name": "stdout",
     "output_type": "stream",
     "text": [
      "Object `sce.download_dataset` not found.\n"
     ]
    }
   ],
   "source": []
  },
  {
   "cell_type": "code",
   "execution_count": null,
   "id": "04d16b3c-7a1a-4f4e-82ac-2deb1088f126",
   "metadata": {},
   "outputs": [],
   "source": []
  }
 ],
 "metadata": {
  "kernelspec": {
   "display_name": "py310",
   "language": "python",
   "name": "py310"
  },
  "language_info": {
   "codemirror_mode": {
    "name": "ipython",
    "version": 3
   },
   "file_extension": ".py",
   "mimetype": "text/x-python",
   "name": "python",
   "nbconvert_exporter": "python",
   "pygments_lexer": "ipython3",
   "version": "3.10.12"
  }
 },
 "nbformat": 4,
 "nbformat_minor": 5
}
