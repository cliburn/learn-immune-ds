{
 "cells": [
  {
   "cell_type": "markdown",
   "id": "357b1da0",
   "metadata": {},
   "source": [
    "# Learn pseudotime analysis\n",
    "\n",
    "- https://scanpy.readthedocs.io/en/stable/tutorials.html\n",
    "- https://scanpy-tutorials.readthedocs.io/en/latest/paga-paul15.html"
   ]
  },
  {
   "cell_type": "code",
   "execution_count": 1,
   "id": "4847e9e0",
   "metadata": {},
   "outputs": [],
   "source": [
    "import os\n",
    "import numpy as np\n",
    "import pandas as pd\n",
    "import scanpy as sc"
   ]
  },
  {
   "cell_type": "code",
   "execution_count": 2,
   "id": "cc74b469",
   "metadata": {},
   "outputs": [],
   "source": [
    "import warnings\n",
    "warnings.simplefilter('ignore', UserWarning)\n",
    "warnings.simplefilter('ignore', RuntimeWarning)\n",
    "warnings.simplefilter('ignore', FutureWarning)"
   ]
  },
  {
   "cell_type": "code",
   "execution_count": 3,
   "id": "45a4dca8",
   "metadata": {},
   "outputs": [
    {
     "name": "stdout",
     "output_type": "stream",
     "text": [
      "scanpy==1.9.3 anndata==0.8.0 umap==0.5.3 numpy==1.23.5 scipy==1.10.1 pandas==1.5.3 scikit-learn==1.2.2 statsmodels==0.13.5 python-igraph==0.10.4 louvain==0.8.0 pynndescent==0.5.8\n"
     ]
    }
   ],
   "source": [
    "sc.settings.verbosity = 3\n",
    "sc.settings.set_figure_params(dpi=75, facecolor='white')\n",
    "sc.logging.print_header()"
   ]
  },
  {
   "cell_type": "markdown",
   "id": "0a0421ea",
   "metadata": {},
   "source": [
    "Download data set\n",
    "\n",
    "```bash\n",
    "%%bash\n",
    "\n",
    "wget ftp://ftp.ncbi.nlm.nih.gov/geo/series/GSE72nnn/GSE72857/suppl/GSE72857_umitab.txt.gz\n",
    "```"
   ]
  },
  {
   "cell_type": "markdown",
   "id": "ee5dbba6",
   "metadata": {},
   "source": [
    "## Load data"
   ]
  },
  {
   "cell_type": "code",
   "execution_count": 9,
   "id": "c46d7679",
   "metadata": {},
   "outputs": [],
   "source": [
    "def paul15(filename = 'data/paul15.h5'):\n",
    "    import h5py\n",
    "    import anndata as ad\n",
    "\n",
    "    with h5py.File(filename, 'r') as f:\n",
    "        # Coercing to float32 for backwards compatibility\n",
    "        X = f['data.debatched'][()].astype(np.float32)\n",
    "        gene_names = f['data.debatched_rownames'][()].astype(str)\n",
    "        cell_names = f['data.debatched_colnames'][()].astype(str)\n",
    "        clusters = f['cluster.id'][()].flatten().astype(int)\n",
    "        infogenes_names = f['info.genes_strings'][()].astype(str)\n",
    "\n",
    "    # each row has to correspond to a observation, therefore transpose\n",
    "    adata = ad.AnnData(X.transpose(), dtype=X.dtype)\n",
    "    adata.var_names = gene_names\n",
    "    adata.row_names = cell_names\n",
    "    # names reflecting the cell type identifications from the paper\n",
    "    cell_type = 6 * ['Ery']\n",
    "    cell_type += 'MEP Mk GMP GMP DC Baso Baso Mo Mo Neu Neu Eos Lymph'.split()\n",
    "    adata.obs['paul15_clusters'] = [f'{i}{cell_type[i-1]}' for i in clusters]\n",
    "    # make string annotations categorical (optional)\n",
    "    adata._sanitize()\n",
    "    # just keep the first of the two equivalent names per gene\n",
    "    adata.var_names = [gn.split(';')[0] for gn in adata.var_names]\n",
    "    # remove 10 corrupted gene names\n",
    "    infogenes_names = np.intersect1d(infogenes_names, adata.var_names)\n",
    "    # restrict data array to the 3461 informative genes\n",
    "    adata = adata[:, infogenes_names].copy()\n",
    "    # usually we'd set the root cell to an arbitrary cell in the MEP cluster\n",
    "    # adata.uns['iroot'] = np.flatnonzero(adata.obs['paul15_clusters'] == '7MEP')[0]\n",
    "    # here, set the root cell as in Haghverdi et al. (2016)\n",
    "    # note that other than in Matlab/R, counting starts at 0\n",
    "    adata.uns['iroot'] = 840\n",
    "\n",
    "    return adata"
   ]
  },
  {
   "cell_type": "code",
   "execution_count": 10,
   "id": "08dc70d1",
   "metadata": {},
   "outputs": [],
   "source": [
    "if not os.path.exists('write'):\n",
    "    os.makedirs('write')\n",
    "results_file = 'write/paul15.h5ad'"
   ]
  },
  {
   "cell_type": "code",
   "execution_count": 11,
   "id": "2bf54c15",
   "metadata": {},
   "outputs": [],
   "source": [
    "adata = paul15()"
   ]
  },
  {
   "cell_type": "code",
   "execution_count": null,
   "id": "7811b25c",
   "metadata": {},
   "outputs": [],
   "source": []
  },
  {
   "cell_type": "code",
   "execution_count": null,
   "id": "093359a5",
   "metadata": {},
   "outputs": [],
   "source": []
  },
  {
   "cell_type": "code",
   "execution_count": null,
   "id": "5ea85883",
   "metadata": {},
   "outputs": [],
   "source": []
  },
  {
   "cell_type": "code",
   "execution_count": null,
   "id": "0eb4290a",
   "metadata": {},
   "outputs": [],
   "source": []
  }
 ],
 "metadata": {
  "kernelspec": {
   "display_name": "Python 3 (ipykernel)",
   "language": "python",
   "name": "python3"
  },
  "language_info": {
   "codemirror_mode": {
    "name": "ipython",
    "version": 3
   },
   "file_extension": ".py",
   "mimetype": "text/x-python",
   "name": "python",
   "nbconvert_exporter": "python",
   "pygments_lexer": "ipython3",
   "version": "3.10.8"
  },
  "toc": {
   "base_numbering": 1,
   "nav_menu": {},
   "number_sections": true,
   "sideBar": true,
   "skip_h1_title": false,
   "title_cell": "Table of Contents",
   "title_sidebar": "Contents",
   "toc_cell": false,
   "toc_position": {},
   "toc_section_display": true,
   "toc_window_display": false
  }
 },
 "nbformat": 4,
 "nbformat_minor": 5
}
